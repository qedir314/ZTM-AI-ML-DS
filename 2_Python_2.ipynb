{
  "cells": [
    {
      "cell_type": "markdown",
      "metadata": {
        "id": "view-in-github",
        "colab_type": "text"
      },
      "source": [
        "<a href=\"https://colab.research.google.com/github/qedir314/ZTM-AI-ML-DS/blob/main/2_Python_2.ipynb\" target=\"_parent\"><img src=\"https://colab.research.google.com/assets/colab-badge.svg\" alt=\"Open In Colab\"/></a>"
      ]
    },
    {
      "cell_type": "markdown",
      "id": "35c0e1c4",
      "metadata": {
        "id": "35c0e1c4"
      },
      "source": [
        "### Conditional logic"
      ]
    },
    {
      "cell_type": "code",
      "execution_count": 33,
      "id": "7a83866c",
      "metadata": {
        "colab": {
          "base_uri": "https://localhost:8080/"
        },
        "id": "7a83866c",
        "outputId": "ccac3628-17ca-4953-9b89-b8211cb6e51d"
      },
      "outputs": [
        {
          "output_type": "stream",
          "name": "stdout",
          "text": [
            "you are old enough to drive, and you have a license\n",
            "okoko\n"
          ]
        }
      ],
      "source": [
        "is_old = True\n",
        "is_licensed = True\n",
        "\n",
        "if is_old and is_licensed:\n",
        "    print(\"you are old enough to drive, and you have a license\")\n",
        "else:\n",
        "    print(\"you are not of age\")\n",
        "print(\"okoko\")"
      ]
    },
    {
      "cell_type": "markdown",
      "id": "2e9204c6",
      "metadata": {
        "id": "2e9204c6"
      },
      "source": [
        "### Truthy and Falsy"
      ]
    },
    {
      "cell_type": "code",
      "execution_count": 34,
      "id": "eb7411b8",
      "metadata": {
        "colab": {
          "base_uri": "https://localhost:8080/"
        },
        "id": "eb7411b8",
        "outputId": "3057dd25-3c76-4bfa-ecad-2a704218016c"
      },
      "outputs": [
        {
          "output_type": "stream",
          "name": "stdout",
          "text": [
            "True\n",
            "True\n"
          ]
        }
      ],
      "source": [
        "print(bool(5))\n",
        "print(bool(\"heello\"))"
      ]
    },
    {
      "cell_type": "code",
      "execution_count": 35,
      "id": "1ebde969",
      "metadata": {
        "colab": {
          "base_uri": "https://localhost:8080/"
        },
        "id": "1ebde969",
        "outputId": "4581b9b8-55f1-4563-928a-0a544e775cc0"
      },
      "outputs": [
        {
          "output_type": "stream",
          "name": "stdout",
          "text": [
            "False\n",
            "False\n",
            "False\n"
          ]
        }
      ],
      "source": [
        "print(bool(0))\n",
        "print(bool(\"\"))\n",
        "print(bool([]))"
      ]
    },
    {
      "cell_type": "markdown",
      "id": "4ccfe616",
      "metadata": {
        "id": "4ccfe616"
      },
      "source": [
        "### Ternary Operator"
      ]
    },
    {
      "cell_type": "code",
      "execution_count": 36,
      "id": "5fdc3744",
      "metadata": {
        "colab": {
          "base_uri": "https://localhost:8080/"
        },
        "id": "5fdc3744",
        "outputId": "07387fdd-ac37-4379-fd7e-8580baeed801"
      },
      "outputs": [
        {
          "output_type": "stream",
          "name": "stdout",
          "text": [
            "message allowed\n"
          ]
        }
      ],
      "source": [
        "#condition_if_True if condition else condition_if_False\n",
        "is_friend = True\n",
        "can_message = \"message allowed\" if is_friend else \"not allowed to message\"\n",
        "print(can_message)"
      ]
    },
    {
      "cell_type": "code",
      "execution_count": 37,
      "id": "f0677ca6",
      "metadata": {
        "colab": {
          "base_uri": "https://localhost:8080/"
        },
        "id": "f0677ca6",
        "outputId": "bf96028d-9bab-4005-db8f-83bc20c63789"
      },
      "outputs": [
        {
          "output_type": "stream",
          "name": "stdout",
          "text": [
            "not allowed to message\n"
          ]
        }
      ],
      "source": [
        "is_friend = False\n",
        "can_message = \"message allowed\" if is_friend else \"not allowed to message\"\n",
        "print(can_message)"
      ]
    },
    {
      "cell_type": "markdown",
      "id": "84b1c8ee",
      "metadata": {
        "id": "84b1c8ee"
      },
      "source": [
        "### Short Circuiting"
      ]
    },
    {
      "cell_type": "code",
      "execution_count": 38,
      "id": "db2eaaaa",
      "metadata": {
        "colab": {
          "base_uri": "https://localhost:8080/"
        },
        "id": "db2eaaaa",
        "outputId": "06db34c0-ea34-40a6-d44b-3a991e1f653c"
      },
      "outputs": [
        {
          "output_type": "stream",
          "name": "stdout",
          "text": [
            "YES\n",
            "Finish\n"
          ]
        }
      ],
      "source": [
        "is_friend = True\n",
        "is_user = True\n",
        "if is_friend or is_user:\n",
        "    print(\"YES\")\n",
        "print(\"Finish\")"
      ]
    },
    {
      "cell_type": "code",
      "execution_count": 39,
      "id": "ffb8b9b7",
      "metadata": {
        "colab": {
          "base_uri": "https://localhost:8080/"
        },
        "id": "ffb8b9b7",
        "outputId": "9f26ef37-bb15-4719-f9b9-31509ea8cbde"
      },
      "outputs": [
        {
          "output_type": "stream",
          "name": "stdout",
          "text": [
            "YES\n",
            "Finish\n"
          ]
        }
      ],
      "source": [
        "if True or False:\n",
        "    print(\"YES\")\n",
        "print(\"Finish\")"
      ]
    },
    {
      "cell_type": "code",
      "execution_count": 40,
      "id": "0f5d23c4",
      "metadata": {
        "colab": {
          "base_uri": "https://localhost:8080/"
        },
        "id": "0f5d23c4",
        "outputId": "9b95aac8-4027-47c5-9a6d-ad39f9271ee6"
      },
      "outputs": [
        {
          "output_type": "stream",
          "name": "stdout",
          "text": [
            "YES\n",
            "Finish\n"
          ]
        }
      ],
      "source": [
        "if True and True:\n",
        "    print(\"YES\")\n",
        "print(\"Finish\")"
      ]
    },
    {
      "cell_type": "code",
      "execution_count": 41,
      "id": "95e48536",
      "metadata": {
        "colab": {
          "base_uri": "https://localhost:8080/"
        },
        "id": "95e48536",
        "outputId": "4347be05-a481-4765-9b47-67785a5fc157"
      },
      "outputs": [
        {
          "output_type": "stream",
          "name": "stdout",
          "text": [
            "NO\n",
            "Finish\n"
          ]
        }
      ],
      "source": [
        "is_friend = False\n",
        "is_user = False\n",
        "if is_friend and is_user:\n",
        "    print(\"YES\")\n",
        "else:\n",
        "    print(\"NO\")\n",
        "print(\"Finish\")"
      ]
    },
    {
      "cell_type": "code",
      "execution_count": 42,
      "id": "5cb4c270",
      "metadata": {
        "colab": {
          "base_uri": "https://localhost:8080/"
        },
        "id": "5cb4c270",
        "outputId": "442de6e9-5bca-42a3-8215-5b223407b01f"
      },
      "outputs": [
        {
          "output_type": "stream",
          "name": "stdout",
          "text": [
            "False\n"
          ]
        }
      ],
      "source": [
        "a = 1 < 0\n",
        "if a and 1 / 0 == 0:\n",
        "    print(True)\n",
        "else:\n",
        "    print(False)"
      ]
    },
    {
      "cell_type": "markdown",
      "id": "bb7381da",
      "metadata": {
        "id": "bb7381da"
      },
      "source": [
        "### Logical Operators"
      ]
    },
    {
      "cell_type": "code",
      "execution_count": 43,
      "id": "86a5ae0f",
      "metadata": {
        "colab": {
          "base_uri": "https://localhost:8080/"
        },
        "id": "86a5ae0f",
        "outputId": "31f3fb0a-20b4-4395-d3fa-94bd392cbe88"
      },
      "outputs": [
        {
          "output_type": "stream",
          "name": "stdout",
          "text": [
            "True\n"
          ]
        }
      ],
      "source": [
        "print(1<2<3<4)"
      ]
    },
    {
      "cell_type": "code",
      "execution_count": 44,
      "id": "fd28f7bc",
      "metadata": {
        "colab": {
          "base_uri": "https://localhost:8080/"
        },
        "id": "fd28f7bc",
        "outputId": "f3a72f31-2c71-46e2-b86a-b5ac9761e5f8"
      },
      "outputs": [
        {
          "output_type": "stream",
          "name": "stdout",
          "text": [
            "False\n"
          ]
        }
      ],
      "source": [
        "print(1<2>3<4)"
      ]
    },
    {
      "cell_type": "markdown",
      "id": "30b94d0a",
      "metadata": {
        "id": "30b94d0a"
      },
      "source": [
        "print(1 >= 0)\n",
        "print(0 >= 0)"
      ]
    },
    {
      "cell_type": "code",
      "execution_count": 45,
      "id": "264a5f7c",
      "metadata": {
        "colab": {
          "base_uri": "https://localhost:8080/"
        },
        "id": "264a5f7c",
        "outputId": "1126358c-a672-4c8c-f960-1afd1ffd07e2"
      },
      "outputs": [
        {
          "output_type": "stream",
          "name": "stdout",
          "text": [
            "False\n",
            "True\n"
          ]
        }
      ],
      "source": [
        "print(0 != 0)\n",
        "print(0 != 1)"
      ]
    },
    {
      "cell_type": "code",
      "execution_count": 46,
      "id": "9aebb33d",
      "metadata": {
        "colab": {
          "base_uri": "https://localhost:8080/"
        },
        "id": "9aebb33d",
        "outputId": "617e85d5-733a-4804-f800-284d79115263"
      },
      "outputs": [
        {
          "output_type": "stream",
          "name": "stdout",
          "text": [
            "False\n",
            "True\n",
            "False\n"
          ]
        }
      ],
      "source": [
        "print(not(True))\n",
        "print(not False)\n",
        "print(not 1==1)"
      ]
    },
    {
      "cell_type": "markdown",
      "id": "cdf116fa",
      "metadata": {
        "id": "cdf116fa"
      },
      "source": [
        "### Exercise Logical Operator"
      ]
    },
    {
      "cell_type": "code",
      "execution_count": 47,
      "id": "dea33d92",
      "metadata": {
        "colab": {
          "base_uri": "https://localhost:8080/"
        },
        "id": "dea33d92",
        "outputId": "934f7807-2618-4801-93ed-2b8abdff0fa6"
      },
      "outputs": [
        {
          "output_type": "stream",
          "name": "stdout",
          "text": [
            "at least you are getting there.\n"
          ]
        }
      ],
      "source": [
        "is_magician = True\n",
        "is_expert = False\n",
        "# check if magician AND expert: \"you are a naster magician\"\n",
        "if is_magician and is_expert:\n",
        "    print(\"You are a master magician.\")\n",
        "#check if magician, but not expert: \"at least you are getting there\"\n",
        "elif is_magician and not is_expert:\n",
        "    print(\"at least you are getting there.\")\n",
        "#if you are not magician: \"you need magic powers \"\n",
        "elif not is_magician:\n",
        "    print(\"You need magic powers\")"
      ]
    },
    {
      "cell_type": "markdown",
      "id": "e6ada09b",
      "metadata": {
        "id": "e6ada09b"
      },
      "source": [
        "### is vs =="
      ]
    },
    {
      "cell_type": "code",
      "execution_count": 48,
      "id": "e4526a49",
      "metadata": {
        "colab": {
          "base_uri": "https://localhost:8080/"
        },
        "id": "e4526a49",
        "outputId": "1abb8fcb-fb99-4893-ec34-88bbba4ce446"
      },
      "outputs": [
        {
          "output_type": "stream",
          "name": "stdout",
          "text": [
            "True\n",
            "False\n",
            "False\n",
            "False\n",
            "True\n",
            "True\n"
          ]
        }
      ],
      "source": [
        "print(True == 1)\n",
        "print('' == 1)\n",
        "print('1' == 1)\n",
        "print([] == 1)\n",
        "print(10 == 10.0)\n",
        "print([1,2,3] == [1,2,3])"
      ]
    },
    {
      "cell_type": "code",
      "execution_count": 49,
      "id": "61be902e",
      "metadata": {
        "colab": {
          "base_uri": "https://localhost:8080/"
        },
        "id": "61be902e",
        "outputId": "e55c6aae-8d0a-47d1-8a93-8e6f84f9c5d8"
      },
      "outputs": [
        {
          "output_type": "stream",
          "name": "stdout",
          "text": [
            "False\n",
            "False\n",
            "False\n",
            "False\n",
            "False\n",
            "False\n"
          ]
        },
        {
          "output_type": "stream",
          "name": "stderr",
          "text": [
            "<>:1: SyntaxWarning: \"is\" with a literal. Did you mean \"==\"?\n",
            "<>:2: SyntaxWarning: \"is\" with a literal. Did you mean \"==\"?\n",
            "<>:3: SyntaxWarning: \"is\" with a literal. Did you mean \"==\"?\n",
            "<>:4: SyntaxWarning: \"is\" with a literal. Did you mean \"==\"?\n",
            "<>:5: SyntaxWarning: \"is\" with a literal. Did you mean \"==\"?\n",
            "<>:1: SyntaxWarning: \"is\" with a literal. Did you mean \"==\"?\n",
            "<>:2: SyntaxWarning: \"is\" with a literal. Did you mean \"==\"?\n",
            "<>:3: SyntaxWarning: \"is\" with a literal. Did you mean \"==\"?\n",
            "<>:4: SyntaxWarning: \"is\" with a literal. Did you mean \"==\"?\n",
            "<>:5: SyntaxWarning: \"is\" with a literal. Did you mean \"==\"?\n",
            "<ipython-input-49-0f26e26e3d08>:1: SyntaxWarning: \"is\" with a literal. Did you mean \"==\"?\n",
            "  print(True is 1)\n",
            "<ipython-input-49-0f26e26e3d08>:2: SyntaxWarning: \"is\" with a literal. Did you mean \"==\"?\n",
            "  print('' is 1)\n",
            "<ipython-input-49-0f26e26e3d08>:3: SyntaxWarning: \"is\" with a literal. Did you mean \"==\"?\n",
            "  print('1' is 1)\n",
            "<ipython-input-49-0f26e26e3d08>:4: SyntaxWarning: \"is\" with a literal. Did you mean \"==\"?\n",
            "  print([] is 1)\n",
            "<ipython-input-49-0f26e26e3d08>:5: SyntaxWarning: \"is\" with a literal. Did you mean \"==\"?\n",
            "  print(10 is 10.0)\n"
          ]
        }
      ],
      "source": [
        "print(True is 1)\n",
        "print('' is 1)\n",
        "print('1' is 1)\n",
        "print([] is 1)\n",
        "print(10 is 10.0)\n",
        "print([1,2,3] is [1,2,3])"
      ]
    },
    {
      "cell_type": "code",
      "execution_count": 50,
      "id": "a2d9408d",
      "metadata": {
        "colab": {
          "base_uri": "https://localhost:8080/"
        },
        "id": "a2d9408d",
        "outputId": "139f45b2-30bd-4943-dcfe-393af4cb1362"
      },
      "outputs": [
        {
          "output_type": "stream",
          "name": "stdout",
          "text": [
            "True\n",
            "True\n",
            "False\n",
            "True\n",
            "False\n"
          ]
        },
        {
          "output_type": "stream",
          "name": "stderr",
          "text": [
            "<>:2: SyntaxWarning: \"is\" with a literal. Did you mean \"==\"?\n",
            "<>:4: SyntaxWarning: \"is\" with a literal. Did you mean \"==\"?\n",
            "<>:2: SyntaxWarning: \"is\" with a literal. Did you mean \"==\"?\n",
            "<>:4: SyntaxWarning: \"is\" with a literal. Did you mean \"==\"?\n",
            "<ipython-input-50-30c7d047245c>:2: SyntaxWarning: \"is\" with a literal. Did you mean \"==\"?\n",
            "  print('1' is '1')\n",
            "<ipython-input-50-30c7d047245c>:4: SyntaxWarning: \"is\" with a literal. Did you mean \"==\"?\n",
            "  print(10 is 10)\n"
          ]
        }
      ],
      "source": [
        "print(True is True)\n",
        "print('1' is '1')\n",
        "print([] is [])  #False memory isn't the SAME\n",
        "print(10 is 10)\n",
        "print([1,2,3] is [1,2,3])   #False memory isn't the SAME"
      ]
    },
    {
      "cell_type": "code",
      "execution_count": 51,
      "id": "311d1b68",
      "metadata": {
        "colab": {
          "base_uri": "https://localhost:8080/"
        },
        "id": "311d1b68",
        "outputId": "f7144712-7925-4eed-e4eb-61a86f550b3c"
      },
      "outputs": [
        {
          "output_type": "stream",
          "name": "stdout",
          "text": [
            "False\n",
            "True\n"
          ]
        }
      ],
      "source": [
        "a = [1,2,3]\n",
        "b = [1,2,3]\n",
        "print(a is b)\n",
        "print(a == b)"
      ]
    },
    {
      "cell_type": "markdown",
      "id": "d4819289",
      "metadata": {
        "id": "d4819289"
      },
      "source": [
        "### For Loops"
      ]
    },
    {
      "cell_type": "code",
      "execution_count": 52,
      "id": "5903d155",
      "metadata": {
        "colab": {
          "base_uri": "https://localhost:8080/"
        },
        "id": "5903d155",
        "outputId": "1f202455-9154-41c9-f059-be8f9cdfb912"
      },
      "outputs": [
        {
          "output_type": "stream",
          "name": "stdout",
          "text": [
            "Z\n",
            "e\n",
            "r\n",
            "o\n",
            " \n",
            "t\n",
            "o\n",
            " \n",
            "M\n",
            "a\n",
            "s\n",
            "t\n",
            "e\n",
            "r\n",
            "y\n"
          ]
        }
      ],
      "source": [
        "for item in 'Zero to Mastery':\n",
        "    print(item)"
      ]
    },
    {
      "cell_type": "code",
      "execution_count": 53,
      "id": "cd650173",
      "metadata": {
        "colab": {
          "base_uri": "https://localhost:8080/"
        },
        "id": "cd650173",
        "outputId": "8ee025cf-2cc6-4e67-cfc1-0d2cf2147a43"
      },
      "outputs": [
        {
          "output_type": "stream",
          "name": "stdout",
          "text": [
            "1\n",
            "2\n",
            "3\n",
            "4\n",
            "5\n"
          ]
        }
      ],
      "source": [
        "for item in [1,2,3,4,5]:\n",
        "    print(item)"
      ]
    },
    {
      "cell_type": "code",
      "execution_count": 54,
      "id": "5f56fe0e",
      "metadata": {
        "colab": {
          "base_uri": "https://localhost:8080/"
        },
        "id": "5f56fe0e",
        "outputId": "2e2b2704-e4e0-4f08-e9ee-93dfee13376f"
      },
      "outputs": [
        {
          "output_type": "stream",
          "name": "stdout",
          "text": [
            "1\n",
            "2\n",
            "3\n",
            "4\n",
            "5\n"
          ]
        }
      ],
      "source": [
        "for item in {1,2,3,4,5}:\n",
        "    print(item)"
      ]
    },
    {
      "cell_type": "code",
      "execution_count": 55,
      "id": "4e6038d5",
      "metadata": {
        "colab": {
          "base_uri": "https://localhost:8080/"
        },
        "id": "4e6038d5",
        "outputId": "c61b2e12-90b5-44c5-8335-9a441d4f75d0"
      },
      "outputs": [
        {
          "output_type": "stream",
          "name": "stdout",
          "text": [
            "1\n",
            "2\n",
            "3\n",
            "4\n",
            "5\n"
          ]
        }
      ],
      "source": [
        "for item in (1,2,3,4,5):\n",
        "    print(item)"
      ]
    },
    {
      "cell_type": "code",
      "execution_count": 56,
      "id": "c512542b",
      "metadata": {
        "colab": {
          "base_uri": "https://localhost:8080/"
        },
        "id": "c512542b",
        "outputId": "3da45cd6-3338-43dd-bc2b-7a90d07f30fd"
      },
      "outputs": [
        {
          "output_type": "stream",
          "name": "stdout",
          "text": [
            "1\n",
            "2\n",
            "3\n",
            "4\n",
            "5\n",
            "5\n"
          ]
        }
      ],
      "source": [
        "for item in (1,2,3,4,5):\n",
        "    print(item)\n",
        "print(item)"
      ]
    },
    {
      "cell_type": "code",
      "execution_count": 57,
      "id": "85e5b490",
      "metadata": {
        "colab": {
          "base_uri": "https://localhost:8080/"
        },
        "id": "85e5b490",
        "outputId": "b099ea7c-4577-4571-aa13-a7dd90e9cd28"
      },
      "outputs": [
        {
          "output_type": "stream",
          "name": "stdout",
          "text": [
            "1 a\n",
            "1 b\n",
            "1 c\n",
            "2 a\n",
            "2 b\n",
            "2 c\n",
            "3 a\n",
            "3 b\n",
            "3 c\n",
            "4 a\n",
            "4 b\n",
            "4 c\n",
            "5 a\n",
            "5 b\n",
            "5 c\n"
          ]
        }
      ],
      "source": [
        "for item in (1,2,3,4,5):\n",
        "    for x in ['a','b','c']:\n",
        "        print(item,x)"
      ]
    },
    {
      "cell_type": "code",
      "execution_count": 58,
      "id": "17a43ae7",
      "metadata": {
        "colab": {
          "base_uri": "https://localhost:8080/"
        },
        "id": "17a43ae7",
        "outputId": "646e8a4b-c1f7-43d9-b5fc-1c1591392e4f"
      },
      "outputs": [
        {
          "output_type": "stream",
          "name": "stdout",
          "text": [
            "name\n",
            "age\n",
            "can_swim\n"
          ]
        }
      ],
      "source": [
        "user = {\n",
        "    'name' : 'Golem',\n",
        "    'age' : 5006,\n",
        "    'can_swim' : True\n",
        "}\n",
        "\n",
        "for item in user:\n",
        "    print(item)"
      ]
    },
    {
      "cell_type": "code",
      "execution_count": 59,
      "id": "09a9a40f",
      "metadata": {
        "colab": {
          "base_uri": "https://localhost:8080/"
        },
        "id": "09a9a40f",
        "outputId": "c147cc0c-1e31-4e11-e139-22aa077ba444"
      },
      "outputs": [
        {
          "output_type": "stream",
          "name": "stdout",
          "text": [
            "('name', 'Golem')\n",
            "('age', 5006)\n",
            "('can_swim', True)\n"
          ]
        }
      ],
      "source": [
        "for item in user.items():\n",
        "    print(item)"
      ]
    },
    {
      "cell_type": "code",
      "execution_count": 60,
      "id": "47119d4f",
      "metadata": {
        "colab": {
          "base_uri": "https://localhost:8080/"
        },
        "id": "47119d4f",
        "outputId": "9344f5ea-66a4-49d2-8449-a4dbfb26420f"
      },
      "outputs": [
        {
          "output_type": "stream",
          "name": "stdout",
          "text": [
            "Golem\n",
            "5006\n",
            "True\n"
          ]
        }
      ],
      "source": [
        "for item in user.values():\n",
        "    print(item)"
      ]
    },
    {
      "cell_type": "code",
      "execution_count": 61,
      "id": "25b276e8",
      "metadata": {
        "colab": {
          "base_uri": "https://localhost:8080/"
        },
        "id": "25b276e8",
        "outputId": "746fe159-45f7-4f59-e58a-c1f0a547ba05"
      },
      "outputs": [
        {
          "output_type": "stream",
          "name": "stdout",
          "text": [
            "name\n",
            "age\n",
            "can_swim\n"
          ]
        }
      ],
      "source": [
        "for item in user.keys():\n",
        "    print(item)"
      ]
    },
    {
      "cell_type": "code",
      "execution_count": 62,
      "id": "376d1092",
      "metadata": {
        "colab": {
          "base_uri": "https://localhost:8080/"
        },
        "id": "376d1092",
        "outputId": "09e9ae17-a893-441c-9c0d-3d399c93544c"
      },
      "outputs": [
        {
          "output_type": "stream",
          "name": "stdout",
          "text": [
            "name Golem\n",
            "age 5006\n",
            "can_swim True\n"
          ]
        }
      ],
      "source": [
        "for item in user.items():\n",
        "    key, value = item\n",
        "    print(key, value)"
      ]
    },
    {
      "cell_type": "code",
      "execution_count": 63,
      "id": "75e6e637",
      "metadata": {
        "colab": {
          "base_uri": "https://localhost:8080/"
        },
        "id": "75e6e637",
        "outputId": "19266707-21d8-467d-a1dc-3afbecfbf072"
      },
      "outputs": [
        {
          "output_type": "stream",
          "name": "stdout",
          "text": [
            "name Golem\n",
            "age 5006\n",
            "can_swim True\n"
          ]
        }
      ],
      "source": [
        "for key,value in user.items():\n",
        "    print(key, value)"
      ]
    },
    {
      "cell_type": "code",
      "execution_count": 64,
      "id": "d73e3f43",
      "metadata": {
        "scrolled": true,
        "id": "d73e3f43"
      },
      "outputs": [],
      "source": [
        "#for item in 50:\n",
        "#    print(item)\n",
        "    # 'int' object is not iterable"
      ]
    },
    {
      "cell_type": "code",
      "execution_count": 65,
      "id": "36fbc388",
      "metadata": {
        "id": "36fbc388"
      },
      "outputs": [],
      "source": [
        "# iterable --> list, dictionary, tuple, set, string"
      ]
    },
    {
      "cell_type": "markdown",
      "id": "063ff084",
      "metadata": {
        "id": "063ff084"
      },
      "source": [
        "### Exercise Tricky Counter"
      ]
    },
    {
      "cell_type": "code",
      "execution_count": 66,
      "id": "1a75221d",
      "metadata": {
        "colab": {
          "base_uri": "https://localhost:8080/"
        },
        "id": "1a75221d",
        "outputId": "b8fc412f-338d-4f73-f0fa-820096f58ea2"
      },
      "outputs": [
        {
          "output_type": "stream",
          "name": "stdout",
          "text": [
            "55\n"
          ]
        }
      ],
      "source": [
        "my_list = [1,2,3,4,5,6,7,8,9,10]\n",
        "sum = 0\n",
        "for i in my_list:\n",
        "    sum += i\n",
        "print(sum)"
      ]
    },
    {
      "cell_type": "markdown",
      "id": "bde8907f",
      "metadata": {
        "id": "bde8907f"
      },
      "source": [
        "### Range"
      ]
    },
    {
      "cell_type": "code",
      "execution_count": 67,
      "id": "0e105700",
      "metadata": {
        "colab": {
          "base_uri": "https://localhost:8080/"
        },
        "id": "0e105700",
        "outputId": "1ce71a49-9cbc-474c-be41-d74f9b3a078f"
      },
      "outputs": [
        {
          "output_type": "stream",
          "name": "stdout",
          "text": [
            "0 1 2 3 4 5 6 7 8 9 10 11 12 13 14 15 16 17 18 19 20 21 22 23 24 25 26 27 28 29 30 31 32 33 34 35 36 37 38 39 40 41 42 43 44 45 46 47 48 49 50 51 52 53 54 55 56 57 58 59 60 61 62 63 64 65 66 67 68 69 70 71 72 73 74 75 76 77 78 79 80 81 82 83 84 85 86 87 88 89 90 91 92 93 94 95 96 97 98 99 "
          ]
        }
      ],
      "source": [
        "for number in range(0,100):\n",
        "    print(number,end=' ')"
      ]
    },
    {
      "cell_type": "code",
      "execution_count": 68,
      "id": "cce1c28a",
      "metadata": {
        "colab": {
          "base_uri": "https://localhost:8080/"
        },
        "id": "cce1c28a",
        "outputId": "c391ab9a-bd26-4038-defc-a9c2e8ef60c1"
      },
      "outputs": [
        {
          "output_type": "stream",
          "name": "stdout",
          "text": [
            "0 1 2 3 4 "
          ]
        }
      ],
      "source": [
        "for _ in range(0,5):\n",
        "    print(_,end=\" \")"
      ]
    },
    {
      "cell_type": "code",
      "execution_count": 69,
      "id": "4c785319",
      "metadata": {
        "colab": {
          "base_uri": "https://localhost:8080/"
        },
        "id": "4c785319",
        "outputId": "7467f30c-c108-4032-fe33-cdd4c4124569"
      },
      "outputs": [
        {
          "output_type": "stream",
          "name": "stdout",
          "text": [
            "0 3 6 9 "
          ]
        }
      ],
      "source": [
        "for _ in range(0,10,3):\n",
        "    print(_,end=\" \")"
      ]
    },
    {
      "cell_type": "code",
      "execution_count": 70,
      "id": "b76a1268",
      "metadata": {
        "colab": {
          "base_uri": "https://localhost:8080/"
        },
        "id": "b76a1268",
        "outputId": "b02c5493-8569-4842-809a-4c1ac040812e"
      },
      "outputs": [
        {
          "output_type": "stream",
          "name": "stdout",
          "text": [
            "10 9 8 7 6 5 4 3 2 1 "
          ]
        }
      ],
      "source": [
        "for _ in range(10,0,-1):\n",
        "    print(_,end=\" \")"
      ]
    },
    {
      "cell_type": "code",
      "execution_count": 71,
      "id": "66b655b9",
      "metadata": {
        "colab": {
          "base_uri": "https://localhost:8080/"
        },
        "id": "66b655b9",
        "outputId": "c09abb45-8443-442d-90fd-ac92edc89271"
      },
      "outputs": [
        {
          "output_type": "stream",
          "name": "stdout",
          "text": [
            "[0, 1, 2, 3, 4]\n",
            "[0, 1, 2, 3, 4]\n",
            "[0, 1, 2, 3, 4]\n"
          ]
        }
      ],
      "source": [
        "for _ in range(0,3,1):\n",
        "    print(list(range(5)))"
      ]
    },
    {
      "cell_type": "markdown",
      "id": "f727ce9f",
      "metadata": {
        "id": "f727ce9f"
      },
      "source": [
        "### Enumerate"
      ]
    },
    {
      "cell_type": "code",
      "execution_count": 72,
      "id": "d94358f1",
      "metadata": {
        "colab": {
          "base_uri": "https://localhost:8080/"
        },
        "id": "d94358f1",
        "outputId": "e30a3305-6d60-41fb-a670-c73e6e50977c"
      },
      "outputs": [
        {
          "output_type": "stream",
          "name": "stdout",
          "text": [
            "0 H\n",
            "1 e\n",
            "2 e\n",
            "3 l\n",
            "4 l\n",
            "5 o\n",
            "6 o\n"
          ]
        }
      ],
      "source": [
        "for i,char in enumerate('Heelloo'):\n",
        "    print(i, char)"
      ]
    },
    {
      "cell_type": "code",
      "execution_count": 73,
      "id": "ddcf20ae",
      "metadata": {
        "colab": {
          "base_uri": "https://localhost:8080/"
        },
        "id": "ddcf20ae",
        "outputId": "df285e0a-bdb3-43aa-b9d7-0d819c438db7"
      },
      "outputs": [
        {
          "output_type": "stream",
          "name": "stdout",
          "text": [
            "(0, 'H')\n",
            "(1, 'e')\n",
            "(2, 'e')\n",
            "(3, 'l')\n",
            "(4, 'l')\n",
            "(5, 'o')\n",
            "(6, 'o')\n"
          ]
        }
      ],
      "source": [
        "for i in enumerate('Heelloo'):\n",
        "    print(i)"
      ]
    },
    {
      "cell_type": "code",
      "execution_count": 74,
      "id": "3599dafa",
      "metadata": {
        "colab": {
          "base_uri": "https://localhost:8080/"
        },
        "id": "3599dafa",
        "outputId": "545a2d81-27c2-4c51-ab02-1991b49b9fc5"
      },
      "outputs": [
        {
          "output_type": "stream",
          "name": "stdout",
          "text": [
            "0 1\n",
            "1 2\n",
            "2 3\n"
          ]
        }
      ],
      "source": [
        "for i,char in enumerate([1,2,3]):    #list\n",
        "    print(i, char)"
      ]
    },
    {
      "cell_type": "code",
      "execution_count": 75,
      "id": "915a0b3e",
      "metadata": {
        "colab": {
          "base_uri": "https://localhost:8080/"
        },
        "id": "915a0b3e",
        "outputId": "09354c09-3ab0-4a18-a97c-69d7a067252d"
      },
      "outputs": [
        {
          "output_type": "stream",
          "name": "stdout",
          "text": [
            "index 0, item 1\n",
            "index 1, item 2\n",
            "index 2, item 3\n"
          ]
        }
      ],
      "source": [
        "for i,char in enumerate((1,2,3)):    #tuple\n",
        "    print(f\"index {i}, item {char}\")"
      ]
    },
    {
      "cell_type": "code",
      "execution_count": 76,
      "id": "87f4a0b7",
      "metadata": {
        "colab": {
          "base_uri": "https://localhost:8080/"
        },
        "id": "87f4a0b7",
        "outputId": "76348125-1089-4585-ce20-97c45b667ecd"
      },
      "outputs": [
        {
          "output_type": "stream",
          "name": "stdout",
          "text": [
            "index of 50 is 50\n"
          ]
        }
      ],
      "source": [
        "for i,item in enumerate(list(range(100))):\n",
        "    if item == 50:\n",
        "        print(f\"index of 50 is {i}\")"
      ]
    },
    {
      "cell_type": "markdown",
      "id": "4de50947",
      "metadata": {
        "id": "4de50947"
      },
      "source": [
        "### While"
      ]
    },
    {
      "cell_type": "code",
      "execution_count": 77,
      "id": "e3c1b8d1",
      "metadata": {
        "colab": {
          "base_uri": "https://localhost:8080/"
        },
        "id": "e3c1b8d1",
        "outputId": "1de3b1ca-030d-4b18-d233-2e19a363aee2"
      },
      "outputs": [
        {
          "output_type": "stream",
          "name": "stdout",
          "text": [
            "0 1 2 3 4 5 6 7 8 9 "
          ]
        }
      ],
      "source": [
        "i = 0\n",
        "while i <10:\n",
        "    print(i,end = ' ')\n",
        "    i += 1"
      ]
    },
    {
      "cell_type": "code",
      "execution_count": 78,
      "id": "1affbce4",
      "metadata": {
        "colab": {
          "base_uri": "https://localhost:8080/"
        },
        "id": "1affbce4",
        "outputId": "2074f923-8b46-4a53-bbc1-72bfd87412e1"
      },
      "outputs": [
        {
          "output_type": "stream",
          "name": "stdout",
          "text": [
            "0\n",
            "1\n",
            "2\n",
            "3\n",
            "4\n",
            "5\n",
            "6\n",
            "7\n",
            "8\n",
            "9\n",
            "done with all the work\n"
          ]
        }
      ],
      "source": [
        "i = 0\n",
        "while i <10:\n",
        "    print(i)\n",
        "    i += 1\n",
        "else:\n",
        "    print(\"done with all the work\")"
      ]
    },
    {
      "cell_type": "code",
      "execution_count": 79,
      "id": "9b9bfda3",
      "metadata": {
        "colab": {
          "base_uri": "https://localhost:8080/"
        },
        "id": "9b9bfda3",
        "outputId": "a77080b2-23d2-4cfb-8e08-9aaf311a7bfc"
      },
      "outputs": [
        {
          "output_type": "stream",
          "name": "stdout",
          "text": [
            "0\n"
          ]
        }
      ],
      "source": [
        "i = 0\n",
        "while i <10:\n",
        "    print(i)\n",
        "    i += 1\n",
        "    break\n",
        "else:\n",
        "    print(\"done with all the work\")"
      ]
    },
    {
      "cell_type": "code",
      "execution_count": 80,
      "id": "edf2f841",
      "metadata": {
        "colab": {
          "base_uri": "https://localhost:8080/"
        },
        "id": "edf2f841",
        "outputId": "bf005b33-11c7-46ef-e053-01099376288d"
      },
      "outputs": [
        {
          "output_type": "stream",
          "name": "stdout",
          "text": [
            "1\n",
            "2\n",
            "3\n",
            "1\n",
            "2\n",
            "3\n"
          ]
        }
      ],
      "source": [
        "my_list = [1,2,3]\n",
        "for num in my_list:\n",
        "    print(num)\n",
        "\n",
        "i = 0\n",
        "while i < len(my_list):\n",
        "    print(my_list[i])\n",
        "    i += 1"
      ]
    },
    {
      "cell_type": "code",
      "execution_count": 81,
      "id": "51b5db0f",
      "metadata": {
        "colab": {
          "base_uri": "https://localhost:8080/"
        },
        "id": "51b5db0f",
        "outputId": "e04d021f-a01f-42e4-d410-2d0a838503e5"
      },
      "outputs": [
        {
          "name": "stdout",
          "output_type": "stream",
          "text": [
            "say smth:hey\n",
            "say smth:bye\n"
          ]
        }
      ],
      "source": [
        "while True:\n",
        "    response = input(\"say smth:\")\n",
        "    if (response == 'bye'):\n",
        "        break"
      ]
    },
    {
      "cell_type": "markdown",
      "id": "960cba43",
      "metadata": {
        "id": "960cba43"
      },
      "source": [
        "### Break, Continue, Pass"
      ]
    },
    {
      "cell_type": "code",
      "execution_count": 82,
      "id": "6a1576cc",
      "metadata": {
        "colab": {
          "base_uri": "https://localhost:8080/"
        },
        "id": "6a1576cc",
        "outputId": "8bc3c3ff-c251-4371-e215-06bfa27f3a1f"
      },
      "outputs": [
        {
          "output_type": "stream",
          "name": "stdout",
          "text": [
            "0\n",
            "1\n",
            "2\n",
            "3\n",
            "4\n"
          ]
        }
      ],
      "source": [
        "for i in range(10):\n",
        "    if i == 5:\n",
        "        break\n",
        "    print(i)"
      ]
    },
    {
      "cell_type": "code",
      "execution_count": 83,
      "id": "baead45f",
      "metadata": {
        "colab": {
          "base_uri": "https://localhost:8080/"
        },
        "id": "baead45f",
        "outputId": "d3554e03-080e-47a0-ebbe-90136f624ea6"
      },
      "outputs": [
        {
          "output_type": "stream",
          "name": "stdout",
          "text": [
            "0\n",
            "1\n",
            "2\n",
            "3\n",
            "4\n",
            "6\n",
            "7\n",
            "8\n",
            "9\n"
          ]
        }
      ],
      "source": [
        "for i in range(10):\n",
        "    if i == 5:\n",
        "        continue\n",
        "    print(i)"
      ]
    },
    {
      "cell_type": "code",
      "execution_count": 84,
      "id": "05874abd",
      "metadata": {
        "id": "05874abd"
      },
      "outputs": [],
      "source": [
        "for i in [1,2,3]:\n",
        "    #Thinking\n",
        "    pass #doing nothing - for placeholding"
      ]
    },
    {
      "cell_type": "markdown",
      "id": "a8cd253d",
      "metadata": {
        "id": "a8cd253d"
      },
      "source": [
        "### Exercise : Our first GUI"
      ]
    },
    {
      "cell_type": "code",
      "execution_count": 85,
      "id": "304c20fa",
      "metadata": {
        "colab": {
          "base_uri": "https://localhost:8080/"
        },
        "id": "304c20fa",
        "outputId": "160c04b1-c3a0-43b8-ac9a-25e2c89433b0"
      },
      "outputs": [
        {
          "output_type": "stream",
          "name": "stdout",
          "text": [
            "   *   \n",
            "  ***  \n",
            " ***** \n",
            "*******\n",
            "   *   \n",
            "   *   \n"
          ]
        }
      ],
      "source": [
        "picture = [\n",
        "  [0,0,0,1,0,0,0],\n",
        "  [0,0,1,1,1,0,0],\n",
        "  [0,1,1,1,1,1,0],\n",
        "  [1,1,1,1,1,1,1],\n",
        "  [0,0,0,1,0,0,0],\n",
        "  [0,0,0,1,0,0,0]\n",
        "]\n",
        "for i in picture:\n",
        "    for j in i:\n",
        "        if j == 0: print(' ',end= '')\n",
        "        elif j == 1: print('*',end = '')\n",
        "    print('')"
      ]
    },
    {
      "cell_type": "markdown",
      "id": "939c5bb2",
      "metadata": {
        "id": "939c5bb2"
      },
      "source": [
        "### Find the duplicates"
      ]
    },
    {
      "cell_type": "code",
      "execution_count": 86,
      "id": "e198b614",
      "metadata": {
        "colab": {
          "base_uri": "https://localhost:8080/"
        },
        "id": "e198b614",
        "outputId": "0d40f7ba-53d8-45e2-b633-36931c013962"
      },
      "outputs": [
        {
          "output_type": "stream",
          "name": "stdout",
          "text": [
            "['b', 'n']\n"
          ]
        }
      ],
      "source": [
        "some_list = ['a', 'b', 'c', 'b', 'd', 'm', 'n', 'n']\n",
        "new = []\n",
        "duplicates = []\n",
        "for i in some_list:\n",
        "    if i not in new:\n",
        "        new.append(i)\n",
        "    else:\n",
        "        duplicates.append(i)\n",
        "print(duplicates)"
      ]
    },
    {
      "cell_type": "code",
      "execution_count": 87,
      "id": "30f2bbc6",
      "metadata": {
        "colab": {
          "base_uri": "https://localhost:8080/"
        },
        "id": "30f2bbc6",
        "outputId": "19950fe8-8dbc-4792-d68f-3d843687eb35"
      },
      "outputs": [
        {
          "output_type": "stream",
          "name": "stdout",
          "text": [
            "['b', 'n']\n"
          ]
        }
      ],
      "source": [
        "some_list = ['a', 'b', 'c', 'b', 'd', 'm', 'n', 'n']\n",
        "duplicates = []\n",
        "for value in some_list:\n",
        "    if some_list.count(value) > 1 and value not in duplicates:\n",
        "        duplicates.append(value)\n",
        "print(duplicates)"
      ]
    },
    {
      "cell_type": "markdown",
      "id": "932f84b8",
      "metadata": {
        "id": "932f84b8"
      },
      "source": [
        "### Functions"
      ]
    },
    {
      "cell_type": "code",
      "execution_count": 88,
      "id": "392426b2",
      "metadata": {
        "id": "392426b2"
      },
      "outputs": [],
      "source": [
        "def say_hello():\n",
        "    print(\"hello\")"
      ]
    },
    {
      "cell_type": "code",
      "execution_count": 89,
      "id": "3f58df56",
      "metadata": {
        "colab": {
          "base_uri": "https://localhost:8080/"
        },
        "id": "3f58df56",
        "outputId": "f30b4fab-707e-4192-a7db-b83413cc7618"
      },
      "outputs": [
        {
          "output_type": "stream",
          "name": "stdout",
          "text": [
            "hello\n"
          ]
        }
      ],
      "source": [
        "say_hello()"
      ]
    },
    {
      "cell_type": "code",
      "execution_count": 90,
      "id": "10cc4d46",
      "metadata": {
        "id": "10cc4d46"
      },
      "outputs": [],
      "source": [
        "picture = [\n",
        "  [0,0,0,1,0,0,0],\n",
        "  [0,0,1,1,1,0,0],\n",
        "  [0,1,1,1,1,1,0],\n",
        "  [1,1,1,1,1,1,1],\n",
        "  [0,0,0,1,0,0,0],\n",
        "  [0,0,0,1,0,0,0]\n",
        "]\n",
        "def show_tree():\n",
        "    for i in picture:\n",
        "        for j in i:\n",
        "            if j == 0: print(' ',end= '')\n",
        "            elif j == 1: print('*',end = '')\n",
        "        print('')"
      ]
    },
    {
      "cell_type": "code",
      "execution_count": 91,
      "id": "e95a74a6",
      "metadata": {
        "colab": {
          "base_uri": "https://localhost:8080/"
        },
        "id": "e95a74a6",
        "outputId": "69dfebe4-d6da-463f-85f6-4183b6bde712"
      },
      "outputs": [
        {
          "output_type": "stream",
          "name": "stdout",
          "text": [
            "   *   \n",
            "  ***  \n",
            " ***** \n",
            "*******\n",
            "   *   \n",
            "   *   \n",
            "   *   \n",
            "  ***  \n",
            " ***** \n",
            "*******\n",
            "   *   \n",
            "   *   \n",
            "   *   \n",
            "  ***  \n",
            " ***** \n",
            "*******\n",
            "   *   \n",
            "   *   \n"
          ]
        }
      ],
      "source": [
        "show_tree()\n",
        "show_tree()\n",
        "show_tree()"
      ]
    },
    {
      "cell_type": "code",
      "execution_count": 92,
      "id": "dc143859",
      "metadata": {
        "colab": {
          "base_uri": "https://localhost:8080/"
        },
        "id": "dc143859",
        "outputId": "c42b48ca-790e-44ac-e036-3500e7633965"
      },
      "outputs": [
        {
          "output_type": "stream",
          "name": "stdout",
          "text": [
            "<function show_tree at 0x7a03fd7e6170>\n"
          ]
        }
      ],
      "source": [
        "print(show_tree)"
      ]
    },
    {
      "cell_type": "markdown",
      "id": "7d2cffa6",
      "metadata": {
        "id": "7d2cffa6"
      },
      "source": [
        "### Parameters vs Arguments"
      ]
    },
    {
      "cell_type": "code",
      "execution_count": 93,
      "id": "1a5b6a18",
      "metadata": {
        "colab": {
          "base_uri": "https://localhost:8080/"
        },
        "id": "1a5b6a18",
        "outputId": "f18e183d-929e-4fe3-9746-8bdef21baeb2"
      },
      "outputs": [
        {
          "output_type": "stream",
          "name": "stdout",
          "text": [
            "Hello Benzema😎\n",
            "Hello Bellingham😎\n"
          ]
        }
      ],
      "source": [
        "# Parameters\n",
        "def say_hello(name,emoji):\n",
        "    print(f\"Hello {name}{emoji}\")\n",
        "\n",
        "#Arguments\n",
        "say_hello(\"Benzema\",\"😎\")\n",
        "say_hello(\"Bellingham\",\"😎\")"
      ]
    },
    {
      "cell_type": "code",
      "execution_count": 94,
      "id": "68c1c47e",
      "metadata": {
        "colab": {
          "base_uri": "https://localhost:8080/"
        },
        "id": "68c1c47e",
        "outputId": "440a759e-369d-43a3-90a8-cb8e3a0cf706"
      },
      "outputs": [
        {
          "output_type": "stream",
          "name": "stdout",
          "text": [
            "Hello Salah😎\n",
            "Hello Salah😎\n"
          ]
        }
      ],
      "source": [
        "# keyword Arguments\n",
        "say_hello(emoji='😎', name='Salah')\n",
        "say_hello(name='Salah', emoji='😎')"
      ]
    },
    {
      "cell_type": "code",
      "execution_count": 176,
      "id": "6fae527c",
      "metadata": {
        "id": "6fae527c"
      },
      "outputs": [],
      "source": [
        "#Default Parameters\n",
        "def say_hello(name='Vini',emoji='😂'):\n",
        "    print(f\"Hello {name}{emoji}\")"
      ]
    },
    {
      "cell_type": "code",
      "execution_count": 177,
      "id": "6f6029e7",
      "metadata": {
        "colab": {
          "base_uri": "https://localhost:8080/"
        },
        "id": "6f6029e7",
        "outputId": "5199ebbb-260c-4bcd-d2cd-5c950f8a1a02"
      },
      "outputs": [
        {
          "output_type": "stream",
          "name": "stdout",
          "text": [
            "Hello Benzema😎\n",
            "Hello Salah😎\n",
            "Hello Vini😂\n",
            "Hello Tommy😂\n"
          ]
        }
      ],
      "source": [
        "say_hello(\"Benzema\",\"😎\")\n",
        "say_hello(name='Salah', emoji='😎')\n",
        "say_hello()\n",
        "say_hello(\"Tommy\")"
      ]
    },
    {
      "cell_type": "markdown",
      "id": "fb4784e2",
      "metadata": {
        "id": "fb4784e2"
      },
      "source": [
        "### Return"
      ]
    },
    {
      "cell_type": "code",
      "execution_count": 97,
      "id": "e69fc9c8",
      "metadata": {
        "colab": {
          "base_uri": "https://localhost:8080/"
        },
        "id": "e69fc9c8",
        "outputId": "16b8a866-30b4-4163-e2e0-56a9d069f165"
      },
      "outputs": [
        {
          "output_type": "stream",
          "name": "stdout",
          "text": [
            "None\n"
          ]
        }
      ],
      "source": [
        "def sum(num1,num2):\n",
        "    num1 + num2\n",
        "print(sum(4,5))"
      ]
    },
    {
      "cell_type": "code",
      "execution_count": 98,
      "id": "1a7e1c35",
      "metadata": {
        "colab": {
          "base_uri": "https://localhost:8080/"
        },
        "id": "1a7e1c35",
        "outputId": "c07e9f9b-1517-43de-b696-c853b8f18949"
      },
      "outputs": [
        {
          "output_type": "stream",
          "name": "stdout",
          "text": [
            "9\n"
          ]
        }
      ],
      "source": [
        "def sum(num1,num2):\n",
        "    return num1 + num2\n",
        "print(sum(4,5))"
      ]
    },
    {
      "cell_type": "code",
      "execution_count": 99,
      "id": "b2faaa62",
      "metadata": {
        "colab": {
          "base_uri": "https://localhost:8080/"
        },
        "id": "b2faaa62",
        "outputId": "d72aae3c-bce4-4dfd-9b40-f90ab72aeeda"
      },
      "outputs": [
        {
          "output_type": "stream",
          "name": "stdout",
          "text": [
            "hiii\n",
            "None\n"
          ]
        }
      ],
      "source": [
        "def sum(num1,num2):\n",
        "    print(\"hiii\")\n",
        "    num1 + num2\n",
        "print(sum(4,5))"
      ]
    },
    {
      "cell_type": "code",
      "execution_count": 175,
      "id": "f9b012fc",
      "metadata": {
        "colab": {
          "base_uri": "https://localhost:8080/"
        },
        "id": "f9b012fc",
        "outputId": "16f3a482-a3cc-4f18-e3df-af86f8fd6ec6"
      },
      "outputs": [
        {
          "output_type": "stream",
          "name": "stdout",
          "text": [
            "None\n"
          ]
        }
      ],
      "source": [
        "def sum(num1, num2):\n",
        "    def another_func(num1, num2):\n",
        "        return num1 + num2\n",
        "total = sum(10,20)\n",
        "print(total)"
      ]
    },
    {
      "cell_type": "code",
      "execution_count": 174,
      "id": "ba6a6cfd",
      "metadata": {
        "colab": {
          "base_uri": "https://localhost:8080/"
        },
        "id": "ba6a6cfd",
        "outputId": "03907a3a-ecf7-46c5-82ea-ea7b232cd6d3"
      },
      "outputs": [
        {
          "output_type": "stream",
          "name": "stdout",
          "text": [
            "30\n"
          ]
        }
      ],
      "source": [
        "def sum(num1, num2):\n",
        "    def another_func(n1, n2):\n",
        "        return n1 + n2\n",
        "    return another_func(num1,num2)\n",
        "    return 3\n",
        "    print(\"finish\")\n",
        "total = sum(10,20)\n",
        "print(total)"
      ]
    },
    {
      "cell_type": "code",
      "execution_count": 173,
      "id": "4c1ca6c7",
      "metadata": {
        "colab": {
          "base_uri": "https://localhost:8080/"
        },
        "id": "4c1ca6c7",
        "outputId": "a1871676-37f8-4c1d-cbc9-2c81863b72cc"
      },
      "outputs": [
        {
          "output_type": "stream",
          "name": "stdout",
          "text": [
            "<function sum.<locals>.another_func at 0x7a03d146db40>\n"
          ]
        }
      ],
      "source": [
        "def sum(num1, num2):\n",
        "    def another_func(n1, n2):\n",
        "        return n1 + n2\n",
        "    return another_func\n",
        "print(sum(10,50))"
      ]
    },
    {
      "cell_type": "markdown",
      "id": "f2f58a7a",
      "metadata": {
        "id": "f2f58a7a"
      },
      "source": [
        "### Exercise : Tesla"
      ]
    },
    {
      "cell_type": "code",
      "execution_count": 103,
      "id": "9448f63a",
      "metadata": {
        "colab": {
          "base_uri": "https://localhost:8080/"
        },
        "id": "9448f63a",
        "outputId": "7e17c2d5-74db-4ca5-dac7-3ffbf8ab7f46"
      },
      "outputs": [
        {
          "output_type": "stream",
          "name": "stdout",
          "text": [
            "What is your age?: 20\n",
            "Powering On. Enjoy the ride!\n"
          ]
        }
      ],
      "source": [
        "age = input(\"What is your age?: \")\n",
        "\n",
        "if int(age) < 18:\n",
        "\tprint(\"Sorry, you are too young to drive this car. Powering off\")\n",
        "elif int(age) > 18:\n",
        "\tprint(\"Powering On. Enjoy the ride!\");\n",
        "elif int(age) == 18:\n",
        "\tprint(\"Congratulations on your first year of driving. Enjoy the ride!\")"
      ]
    },
    {
      "cell_type": "code",
      "execution_count": 104,
      "id": "2f5314be",
      "metadata": {
        "colab": {
          "base_uri": "https://localhost:8080/"
        },
        "id": "2f5314be",
        "outputId": "c591b10a-9db1-4230-f0f2-931d049c0f2a"
      },
      "outputs": [
        {
          "output_type": "stream",
          "name": "stdout",
          "text": [
            "What is your age?: 23\n",
            "Powering On. Enjoy the ride!\n"
          ]
        }
      ],
      "source": [
        "def checkDriverAge():\n",
        "  age = input(\"What is your age?: \")\n",
        "\n",
        "  if int(age) < 18:\n",
        "    print(\"Sorry, you are too young to drive this car. Powering off\")\n",
        "  elif int(age) > 18:\n",
        "    print(\"Powering On. Enjoy the ride!\");\n",
        "  elif int(age) == 18:\n",
        "    print(\"Congratulations on your first year of driving. Enjoy the ride!\")\n",
        "checkDriverAge()"
      ]
    },
    {
      "cell_type": "code",
      "execution_count": 105,
      "id": "caf02c15",
      "metadata": {
        "colab": {
          "base_uri": "https://localhost:8080/"
        },
        "id": "caf02c15",
        "outputId": "890d4bef-9a5f-4f47-f718-41cbd1f82976"
      },
      "outputs": [
        {
          "output_type": "stream",
          "name": "stdout",
          "text": [
            "Congratulations on your first year of driving. Enjoy the ride!\n"
          ]
        }
      ],
      "source": [
        "def checkDriverAge(age = 0):\n",
        "\n",
        "  if int(age) < 18:\n",
        "    print(\"Sorry, you are too young to drive this car. Powering off\")\n",
        "  elif int(age) > 18:\n",
        "    print(\"Powering On. Enjoy the ride!\");\n",
        "  elif int(age) == 18:\n",
        "    print(\"Congratulations on your first year of driving. Enjoy the ride!\")\n",
        "\n",
        "checkDriverAge(18)"
      ]
    },
    {
      "cell_type": "markdown",
      "id": "83592b6e",
      "metadata": {
        "id": "83592b6e"
      },
      "source": [
        "### Methods vs Functions"
      ]
    },
    {
      "cell_type": "code",
      "execution_count": 108,
      "id": "7ec9554b",
      "metadata": {
        "colab": {
          "base_uri": "https://localhost:8080/",
          "height": 53
        },
        "id": "7ec9554b",
        "outputId": "7b0c2aca-29cd-49d5-f832-c79e60c76b6d"
      },
      "outputs": [
        {
          "output_type": "stream",
          "name": "stdout",
          "text": [
            "\n"
          ]
        },
        {
          "output_type": "execute_result",
          "data": {
            "text/plain": [
              "'Hello'"
            ],
            "application/vnd.google.colaboratory.intrinsic+json": {
              "type": "string"
            }
          },
          "metadata": {},
          "execution_count": 108
        }
      ],
      "source": [
        "# Functions\n",
        "list()\n",
        "print()\n",
        "#min()\n",
        "#max()\n",
        "def my_function():\n",
        "    pass\n",
        "# Methods comes after dots .\n",
        "\"hello\".capitalize()"
      ]
    },
    {
      "cell_type": "markdown",
      "id": "e4f05b1a",
      "metadata": {
        "id": "e4f05b1a"
      },
      "source": [
        "### Docstrings"
      ]
    },
    {
      "cell_type": "code",
      "execution_count": 109,
      "id": "0039fc1a",
      "metadata": {
        "colab": {
          "base_uri": "https://localhost:8080/"
        },
        "id": "0039fc1a",
        "outputId": "b89f1f76-c2e3-47b8-ff24-2996b50ddfbc"
      },
      "outputs": [
        {
          "output_type": "stream",
          "name": "stdout",
          "text": [
            "!!!\n"
          ]
        }
      ],
      "source": [
        "def test(a):\n",
        "    '''\n",
        "    INFO: test a and print parameter a\n",
        "    '''\n",
        "    print(a)\n",
        "test(\"!!!\")"
      ]
    },
    {
      "cell_type": "code",
      "execution_count": 110,
      "id": "acf04331",
      "metadata": {
        "colab": {
          "base_uri": "https://localhost:8080/"
        },
        "id": "acf04331",
        "outputId": "c6666a92-1f06-4aed-e70f-4a4557a7669e"
      },
      "outputs": [
        {
          "output_type": "stream",
          "name": "stdout",
          "text": [
            "Help on function test in module __main__:\n",
            "\n",
            "test(a)\n",
            "    INFO: test a and print parameter a\n",
            "\n",
            "\n",
            "    INFO: test a and print parameter a\n",
            "    \n"
          ]
        }
      ],
      "source": [
        "help(test)\n",
        "print(test.__doc__)"
      ]
    },
    {
      "cell_type": "markdown",
      "id": "a4270af5",
      "metadata": {
        "id": "a4270af5"
      },
      "source": [
        "### Clean Code"
      ]
    },
    {
      "cell_type": "code",
      "execution_count": 111,
      "id": "f37f4a52",
      "metadata": {
        "colab": {
          "base_uri": "https://localhost:8080/"
        },
        "id": "f37f4a52",
        "outputId": "76633166-27f0-44ab-dea5-5eaee4b12e53"
      },
      "outputs": [
        {
          "output_type": "stream",
          "name": "stdout",
          "text": [
            "True\n",
            "False\n"
          ]
        }
      ],
      "source": [
        "def is_even(num):\n",
        "    if num % 2 == 0:\n",
        "        return True\n",
        "    elif num % 2 != 0:\n",
        "        return False\n",
        "print(is_even(50))\n",
        "print(is_even(51))"
      ]
    },
    {
      "cell_type": "code",
      "execution_count": 112,
      "id": "69b24de7",
      "metadata": {
        "colab": {
          "base_uri": "https://localhost:8080/"
        },
        "id": "69b24de7",
        "outputId": "242ae23e-c104-4928-b0b5-e346525b83f2"
      },
      "outputs": [
        {
          "output_type": "stream",
          "name": "stdout",
          "text": [
            "True\n",
            "False\n"
          ]
        }
      ],
      "source": [
        "def is_even(num):\n",
        "    return num % 2 == 0\n",
        "print(is_even(50))\n",
        "print(is_even(51))"
      ]
    },
    {
      "cell_type": "markdown",
      "id": "0e2a82bc",
      "metadata": {
        "id": "0e2a82bc"
      },
      "source": [
        "### *Args and **Kwargs"
      ]
    },
    {
      "cell_type": "code",
      "execution_count": 168,
      "id": "f175f61d",
      "metadata": {
        "colab": {
          "base_uri": "https://localhost:8080/"
        },
        "id": "f175f61d",
        "outputId": "d5ba602f-46f3-4c29-e14f-47734ab56f0e"
      },
      "outputs": [
        {
          "output_type": "execute_result",
          "data": {
            "text/plain": [
              "10"
            ]
          },
          "metadata": {},
          "execution_count": 168
        }
      ],
      "source": [
        "import builtins\n",
        "def super_func(*argv):\n",
        "    return builtins.sum(argv)\n",
        "super_func(1,2,3,4)"
      ]
    },
    {
      "cell_type": "code",
      "execution_count": 169,
      "id": "3d0052bd",
      "metadata": {
        "colab": {
          "base_uri": "https://localhost:8080/"
        },
        "id": "3d0052bd",
        "outputId": "76f852b2-bf20-438b-ccba-80a7d0a8cde3"
      },
      "outputs": [
        {
          "output_type": "stream",
          "name": "stdout",
          "text": [
            "(1, 2, 3, 4)\n",
            "1 2 3 4\n",
            "10\n"
          ]
        }
      ],
      "source": [
        "def super_func(*args):\n",
        "    print(args)\n",
        "    print(*args)\n",
        "    return builtins.sum(args)\n",
        "print(super_func(1,2,3,4))"
      ]
    },
    {
      "cell_type": "code",
      "execution_count": 170,
      "id": "26437e22",
      "metadata": {
        "colab": {
          "base_uri": "https://localhost:8080/"
        },
        "id": "26437e22",
        "outputId": "603d1ac1-45f5-4524-a0b6-9c12d2ccdd40"
      },
      "outputs": [
        {
          "output_type": "stream",
          "name": "stdout",
          "text": [
            "{'num1': 5, 'num2': 10}\n",
            "25\n"
          ]
        }
      ],
      "source": [
        "def super_func(*args, **kwargs):\n",
        "    print(kwargs)\n",
        "    total = 0\n",
        "    for items in kwargs.values():\n",
        "        total += items\n",
        "    return builtins.sum(args) + total\n",
        "print(super_func(1,2,3,4, num1=5, num2=10))"
      ]
    },
    {
      "cell_type": "markdown",
      "id": "f8c3eb40",
      "metadata": {
        "id": "f8c3eb40"
      },
      "source": [
        "###### Rule: params, *args, default parameters, **kwargs"
      ]
    },
    {
      "cell_type": "code",
      "execution_count": 171,
      "id": "248df5a1",
      "metadata": {
        "colab": {
          "base_uri": "https://localhost:8080/"
        },
        "id": "248df5a1",
        "outputId": "835909a8-5396-412a-b3ed-a99eb9ee397f"
      },
      "outputs": [
        {
          "output_type": "stream",
          "name": "stdout",
          "text": [
            "{'num1': 5, 'num2': 10}\n",
            "hi Andy\n",
            "25\n"
          ]
        }
      ],
      "source": [
        "def super_func(name,*args, i='hi',**kwargs):\n",
        "    print(kwargs)\n",
        "    print(i + \" \" + name)\n",
        "    total = 0\n",
        "    for items in kwargs.values():\n",
        "        total += items\n",
        "    return builtins.sum(args) + total\n",
        "print(super_func('Andy',1,2,3,4, num1=5, num2=10))"
      ]
    },
    {
      "cell_type": "markdown",
      "id": "04d2fab6",
      "metadata": {
        "id": "04d2fab6"
      },
      "source": [
        "### Exercise - Functions"
      ]
    },
    {
      "cell_type": "code",
      "execution_count": 122,
      "id": "c563feaf",
      "metadata": {
        "colab": {
          "base_uri": "https://localhost:8080/"
        },
        "id": "c563feaf",
        "outputId": "704a536f-7e69-4c29-cad4-ff3bb77294cd"
      },
      "outputs": [
        {
          "output_type": "stream",
          "name": "stdout",
          "text": [
            "18\n"
          ]
        }
      ],
      "source": [
        "def highest_even(li):\n",
        "    max_even = 0\n",
        "    for item in li:\n",
        "        if item % 2 == 0 and item >= max_even:\n",
        "            max_even = item\n",
        "    return max_even\n",
        "    pass\n",
        "\n",
        "print(highest_even([10,2,4,8,15,18]))"
      ]
    },
    {
      "cell_type": "code",
      "execution_count": 123,
      "id": "92d94f10",
      "metadata": {
        "colab": {
          "base_uri": "https://localhost:8080/"
        },
        "id": "92d94f10",
        "outputId": "eca5929d-7943-41a2-c2ec-41f8abe48ae7"
      },
      "outputs": [
        {
          "output_type": "stream",
          "name": "stdout",
          "text": [
            "18\n"
          ]
        }
      ],
      "source": [
        "def highest_even(li):\n",
        "    evens = []\n",
        "    for item in li:\n",
        "        if item % 2 == 0:\n",
        "            evens.append(item)\n",
        "    return max(evens)\n",
        "    pass\n",
        "\n",
        "print(highest_even([10,2,4,8,15,18]))"
      ]
    },
    {
      "cell_type": "markdown",
      "id": "97a7da48",
      "metadata": {
        "id": "97a7da48"
      },
      "source": [
        "### Scope"
      ]
    },
    {
      "cell_type": "code",
      "execution_count": 153,
      "id": "1f5e75ce",
      "metadata": {
        "colab": {
          "base_uri": "https://localhost:8080/",
          "height": 158
        },
        "id": "1f5e75ce",
        "outputId": "9c43a7b1-fc50-4390-be0c-70f96e21bc4a"
      },
      "outputs": [
        {
          "output_type": "error",
          "ename": "NameError",
          "evalue": "name 'name' is not defined",
          "traceback": [
            "\u001b[0;31m---------------------------------------------------------------------------\u001b[0m",
            "\u001b[0;31mNameError\u001b[0m                                 Traceback (most recent call last)",
            "\u001b[0;32m<ipython-input-153-3301bc1fbff3>\u001b[0m in \u001b[0;36m<cell line: 2>\u001b[0;34m()\u001b[0m\n\u001b[1;32m      1\u001b[0m \u001b[0;31m# Scope - what variables do I have access to?\u001b[0m\u001b[0;34m\u001b[0m\u001b[0;34m\u001b[0m\u001b[0m\n\u001b[0;32m----> 2\u001b[0;31m \u001b[0mprint\u001b[0m\u001b[0;34m(\u001b[0m\u001b[0mname\u001b[0m\u001b[0;34m)\u001b[0m\u001b[0;34m\u001b[0m\u001b[0;34m\u001b[0m\u001b[0m\n\u001b[0m",
            "\u001b[0;31mNameError\u001b[0m: name 'name' is not defined"
          ]
        }
      ],
      "source": [
        "# Scope - what variables do I have access to?\n",
        "# print(name)"
      ]
    },
    {
      "cell_type": "code",
      "execution_count": 154,
      "id": "b6d03064",
      "metadata": {
        "colab": {
          "base_uri": "https://localhost:8080/"
        },
        "id": "b6d03064",
        "outputId": "e2975398-ba75-4ab2-8d89-e30974579dda"
      },
      "outputs": [
        {
          "output_type": "stream",
          "name": "stdout",
          "text": [
            "30\n"
          ]
        }
      ],
      "source": [
        "def function():\n",
        "    total = 100\n",
        "print(total)"
      ]
    },
    {
      "cell_type": "code",
      "execution_count": 155,
      "id": "b21d86e6",
      "metadata": {
        "colab": {
          "base_uri": "https://localhost:8080/"
        },
        "id": "b21d86e6",
        "outputId": "7b7e922a-8cb6-4dfd-fbee-87a6f07240bc"
      },
      "outputs": [
        {
          "output_type": "stream",
          "name": "stdout",
          "text": [
            "5\n"
          ]
        }
      ],
      "source": [
        "if True:\n",
        "    x = 5\n",
        "def function():\n",
        "    total = 100\n",
        "print(x)"
      ]
    },
    {
      "cell_type": "code",
      "execution_count": 156,
      "id": "1dd5ae7c",
      "metadata": {
        "colab": {
          "base_uri": "https://localhost:8080/"
        },
        "id": "1dd5ae7c",
        "outputId": "c00563b8-ddb7-4824-84a0-3243d0714dc5"
      },
      "outputs": [
        {
          "output_type": "stream",
          "name": "stdout",
          "text": [
            "5\n",
            "100\n"
          ]
        }
      ],
      "source": [
        "if True:\n",
        "    x = 5\n",
        "def function():\n",
        "    total = 100\n",
        "    print(x)\n",
        "    return total\n",
        "print(function())"
      ]
    },
    {
      "cell_type": "markdown",
      "id": "148664ec",
      "metadata": {
        "id": "148664ec"
      },
      "source": [
        "### Scope Rules"
      ]
    },
    {
      "cell_type": "code",
      "execution_count": 157,
      "id": "1517e970",
      "metadata": {
        "colab": {
          "base_uri": "https://localhost:8080/"
        },
        "id": "1517e970",
        "outputId": "3e75064d-ec90-476b-9085-16fb091421ab"
      },
      "outputs": [
        {
          "output_type": "stream",
          "name": "stdout",
          "text": [
            "1\n",
            "5\n"
          ]
        }
      ],
      "source": [
        "a = 1\n",
        "def confusion():\n",
        "    a = 5\n",
        "    return a\n",
        "print(a)\n",
        "print(confusion())"
      ]
    },
    {
      "cell_type": "code",
      "execution_count": 158,
      "id": "ff06db91",
      "metadata": {
        "colab": {
          "base_uri": "https://localhost:8080/"
        },
        "id": "ff06db91",
        "outputId": "a48d1b36-c804-4d5b-9850-c211946d5491"
      },
      "outputs": [
        {
          "output_type": "stream",
          "name": "stdout",
          "text": [
            "1\n",
            "1\n"
          ]
        }
      ],
      "source": [
        "a = 1\n",
        "def confusion():\n",
        "    return a\n",
        "print(a)\n",
        "print(confusion())"
      ]
    },
    {
      "cell_type": "code",
      "execution_count": 159,
      "id": "d1ad4c5b",
      "metadata": {
        "colab": {
          "base_uri": "https://localhost:8080/"
        },
        "id": "d1ad4c5b",
        "outputId": "9519795a-3613-4070-d6eb-f98b4c8530c2"
      },
      "outputs": [
        {
          "output_type": "stream",
          "name": "stdout",
          "text": [
            "1\n",
            "10\n"
          ]
        }
      ],
      "source": [
        "a = 1\n",
        "def confusion():\n",
        "    a = 10\n",
        "    def parent():\n",
        "        return a\n",
        "    return parent()\n",
        "print(a)\n",
        "print(confusion())"
      ]
    },
    {
      "cell_type": "code",
      "execution_count": 160,
      "id": "b3a29f20",
      "metadata": {
        "colab": {
          "base_uri": "https://localhost:8080/"
        },
        "id": "b3a29f20",
        "outputId": "85e9af1c-3991-4123-fe67-80679aa73553"
      },
      "outputs": [
        {
          "output_type": "stream",
          "name": "stdout",
          "text": [
            "1\n",
            "1\n"
          ]
        }
      ],
      "source": [
        "a = 1\n",
        "def confusion():\n",
        "    def parent():\n",
        "        return a\n",
        "    return parent()\n",
        "print(a)\n",
        "print(confusion())"
      ]
    },
    {
      "cell_type": "code",
      "execution_count": 161,
      "id": "19602768",
      "metadata": {
        "colab": {
          "base_uri": "https://localhost:8080/"
        },
        "id": "19602768",
        "outputId": "f07b6499-5376-4c52-b4bf-2c5203b41646"
      },
      "outputs": [
        {
          "output_type": "stream",
          "name": "stdout",
          "text": [
            "1\n",
            "<function sum at 0x7a04116ce710>\n"
          ]
        }
      ],
      "source": [
        "a = 1\n",
        "def confusion():\n",
        "    def parent():\n",
        "        return sum\n",
        "    return parent()\n",
        "print(a)\n",
        "print(confusion())"
      ]
    },
    {
      "cell_type": "code",
      "execution_count": null,
      "id": "64acda3e",
      "metadata": {
        "id": "64acda3e"
      },
      "outputs": [],
      "source": [
        "#1 Start with the local\n",
        "#2 parent local scope ?\n",
        "#3 Global\n",
        "#4 built in python functions"
      ]
    },
    {
      "cell_type": "markdown",
      "id": "6458272e",
      "metadata": {
        "id": "6458272e"
      },
      "source": [
        "### Global keyword"
      ]
    },
    {
      "cell_type": "code",
      "execution_count": 162,
      "id": "d28bf472",
      "metadata": {
        "colab": {
          "base_uri": "https://localhost:8080/"
        },
        "id": "d28bf472",
        "outputId": "0991c6b4-26a9-4fb8-efe7-2a78518454d7"
      },
      "outputs": [
        {
          "output_type": "stream",
          "name": "stdout",
          "text": [
            "399\n"
          ]
        }
      ],
      "source": [
        "a = 10\n",
        "def confusion(b):\n",
        "    print(b)\n",
        "    a = 80\n",
        "confusion(399)"
      ]
    },
    {
      "cell_type": "code",
      "execution_count": 163,
      "id": "59637395",
      "metadata": {
        "colab": {
          "base_uri": "https://localhost:8080/",
          "height": 315
        },
        "id": "59637395",
        "outputId": "cf9266d4-fcab-4903-b539-e6319a699d8a"
      },
      "outputs": [
        {
          "output_type": "error",
          "ename": "UnboundLocalError",
          "evalue": "local variable 'total' referenced before assignment",
          "traceback": [
            "\u001b[0;31m---------------------------------------------------------------------------\u001b[0m",
            "\u001b[0;31mUnboundLocalError\u001b[0m                         Traceback (most recent call last)",
            "\u001b[0;32m<ipython-input-163-68c7e37d344b>\u001b[0m in \u001b[0;36m<cell line: 5>\u001b[0;34m()\u001b[0m\n\u001b[1;32m      3\u001b[0m     \u001b[0mtotal\u001b[0m \u001b[0;34m+=\u001b[0m \u001b[0;36m1\u001b[0m\u001b[0;34m\u001b[0m\u001b[0;34m\u001b[0m\u001b[0m\n\u001b[1;32m      4\u001b[0m     \u001b[0;32mreturn\u001b[0m \u001b[0mtotal\u001b[0m\u001b[0;34m\u001b[0m\u001b[0;34m\u001b[0m\u001b[0m\n\u001b[0;32m----> 5\u001b[0;31m \u001b[0mcount\u001b[0m\u001b[0;34m(\u001b[0m\u001b[0;34m)\u001b[0m\u001b[0;34m\u001b[0m\u001b[0;34m\u001b[0m\u001b[0m\n\u001b[0m\u001b[1;32m      6\u001b[0m \u001b[0mprint\u001b[0m\u001b[0;34m(\u001b[0m\u001b[0mcount\u001b[0m\u001b[0;34m(\u001b[0m\u001b[0;34m)\u001b[0m\u001b[0;34m)\u001b[0m\u001b[0;34m\u001b[0m\u001b[0;34m\u001b[0m\u001b[0m\n",
            "\u001b[0;32m<ipython-input-163-68c7e37d344b>\u001b[0m in \u001b[0;36mcount\u001b[0;34m()\u001b[0m\n\u001b[1;32m      1\u001b[0m \u001b[0mtotal\u001b[0m \u001b[0;34m=\u001b[0m \u001b[0;36m0\u001b[0m\u001b[0;34m\u001b[0m\u001b[0;34m\u001b[0m\u001b[0m\n\u001b[1;32m      2\u001b[0m \u001b[0;32mdef\u001b[0m \u001b[0mcount\u001b[0m\u001b[0;34m(\u001b[0m\u001b[0;34m)\u001b[0m\u001b[0;34m:\u001b[0m\u001b[0;34m\u001b[0m\u001b[0;34m\u001b[0m\u001b[0m\n\u001b[0;32m----> 3\u001b[0;31m     \u001b[0mtotal\u001b[0m \u001b[0;34m+=\u001b[0m \u001b[0;36m1\u001b[0m\u001b[0;34m\u001b[0m\u001b[0;34m\u001b[0m\u001b[0m\n\u001b[0m\u001b[1;32m      4\u001b[0m     \u001b[0;32mreturn\u001b[0m \u001b[0mtotal\u001b[0m\u001b[0;34m\u001b[0m\u001b[0;34m\u001b[0m\u001b[0m\n\u001b[1;32m      5\u001b[0m \u001b[0mcount\u001b[0m\u001b[0;34m(\u001b[0m\u001b[0;34m)\u001b[0m\u001b[0;34m\u001b[0m\u001b[0;34m\u001b[0m\u001b[0m\n",
            "\u001b[0;31mUnboundLocalError\u001b[0m: local variable 'total' referenced before assignment"
          ]
        }
      ],
      "source": [
        "total = 0\n",
        "def count():\n",
        "    total += 1\n",
        "    return total\n",
        "count()\n",
        "print(count())"
      ]
    },
    {
      "cell_type": "code",
      "execution_count": 164,
      "id": "1ada711d",
      "metadata": {
        "colab": {
          "base_uri": "https://localhost:8080/"
        },
        "id": "1ada711d",
        "outputId": "329984de-0732-4709-d250-0c27e928a5e4"
      },
      "outputs": [
        {
          "output_type": "stream",
          "name": "stdout",
          "text": [
            "1\n"
          ]
        }
      ],
      "source": [
        "total = 0\n",
        "def count():\n",
        "    total = 0\n",
        "    total += 1\n",
        "    return total\n",
        "count()\n",
        "count()\n",
        "print(count())"
      ]
    },
    {
      "cell_type": "code",
      "execution_count": 165,
      "id": "71ae9fac",
      "metadata": {
        "colab": {
          "base_uri": "https://localhost:8080/"
        },
        "id": "71ae9fac",
        "outputId": "96ca11a4-cf84-47fb-9a7d-9c47b6ccfe86"
      },
      "outputs": [
        {
          "output_type": "stream",
          "name": "stdout",
          "text": [
            "3\n"
          ]
        }
      ],
      "source": [
        "total = 0\n",
        "def count():\n",
        "    global total\n",
        "    total += 1\n",
        "    return total\n",
        "count()\n",
        "count()\n",
        "print(count())"
      ]
    },
    {
      "cell_type": "code",
      "execution_count": 166,
      "id": "9435ec52",
      "metadata": {
        "colab": {
          "base_uri": "https://localhost:8080/"
        },
        "id": "9435ec52",
        "outputId": "e875525d-0b0d-4e32-fb7c-72fee495d924"
      },
      "outputs": [
        {
          "output_type": "stream",
          "name": "stdout",
          "text": [
            "3\n"
          ]
        }
      ],
      "source": [
        "total = 0\n",
        "def count(total):\n",
        "    total += 1\n",
        "    return total\n",
        "\n",
        "print(count(count(count(total))))"
      ]
    },
    {
      "cell_type": "markdown",
      "id": "e44a22b4",
      "metadata": {
        "id": "e44a22b4"
      },
      "source": [
        "### non local keyword"
      ]
    },
    {
      "cell_type": "code",
      "execution_count": 151,
      "id": "86e66e2b",
      "metadata": {
        "colab": {
          "base_uri": "https://localhost:8080/"
        },
        "id": "86e66e2b",
        "outputId": "0e7d11d7-a408-4837-d460-4a7994445ceb"
      },
      "outputs": [
        {
          "output_type": "stream",
          "name": "stdout",
          "text": [
            "inner : nonlocal\n",
            "outer:  nonlocal\n"
          ]
        }
      ],
      "source": [
        "def outer():\n",
        "    x = \"local\"\n",
        "    def inner():\n",
        "        nonlocal x\n",
        "        x = \"nonlocal\"\n",
        "        print(\"inner :\", x)\n",
        "    inner()\n",
        "    print(\"outer: \", x)\n",
        "outer()"
      ]
    },
    {
      "cell_type": "code",
      "execution_count": 152,
      "id": "71218b8d",
      "metadata": {
        "colab": {
          "base_uri": "https://localhost:8080/"
        },
        "id": "71218b8d",
        "outputId": "3fc0c43a-4912-444b-c2cf-70b3fd508041"
      },
      "outputs": [
        {
          "output_type": "stream",
          "name": "stdout",
          "text": [
            "inner : nonlocal\n",
            "outer:  local\n"
          ]
        }
      ],
      "source": [
        "def outer():\n",
        "    x = \"local\"\n",
        "    def inner():\n",
        "        x = \"nonlocal\"\n",
        "        print(\"inner :\", x)\n",
        "    inner()\n",
        "    print(\"outer: \", x)\n",
        "outer()"
      ]
    },
    {
      "cell_type": "markdown",
      "id": "02d969cf",
      "metadata": {
        "id": "02d969cf"
      },
      "source": [
        "### Pure Functions"
      ]
    },
    {
      "cell_type": "code",
      "execution_count": 149,
      "id": "c97188ff",
      "metadata": {
        "colab": {
          "base_uri": "https://localhost:8080/"
        },
        "id": "c97188ff",
        "outputId": "c40f48d7-08bb-42e5-c676-da91063abf2b"
      },
      "outputs": [
        {
          "output_type": "stream",
          "name": "stdout",
          "text": [
            "[2, 6, 8]\n"
          ]
        }
      ],
      "source": [
        "# Pure\n",
        "def multiply_by2(li):\n",
        "    new_list = []\n",
        "    for item in li:\n",
        "        new_list.append(item*2)\n",
        "    return new_list\n",
        "print(multiply_by2([1,3,4]))"
      ]
    },
    {
      "cell_type": "code",
      "execution_count": 125,
      "id": "4da5d57b",
      "metadata": {
        "colab": {
          "base_uri": "https://localhost:8080/"
        },
        "id": "4da5d57b",
        "outputId": "f4711fee-0557-432d-f09b-fad17d772c3d"
      },
      "outputs": [
        {
          "output_type": "stream",
          "name": "stdout",
          "text": [
            "[2, 6, 8]\n"
          ]
        }
      ],
      "source": [
        "# not Pure (because of print after return)\n",
        "def multiply_by2(li):\n",
        "    new_list = []\n",
        "    for item in li:\n",
        "        new_list.append(item*2)\n",
        "    return print(new_list)\n",
        "multiply_by2([1,3,4])"
      ]
    },
    {
      "cell_type": "code",
      "execution_count": 126,
      "id": "98afa674",
      "metadata": {
        "colab": {
          "base_uri": "https://localhost:8080/"
        },
        "id": "98afa674",
        "outputId": "82db6081-39ce-4979-aa43-e8e76a483ff6"
      },
      "outputs": [
        {
          "output_type": "stream",
          "name": "stdout",
          "text": [
            "[2, 6, 8]\n"
          ]
        }
      ],
      "source": [
        "# not Pure (because of interacting with Other World)\n",
        "new_list = []\n",
        "def multiply_by2(li):\n",
        "    for item in li:\n",
        "        new_list.append(item*2)\n",
        "    return print(new_list)\n",
        "multiply_by2([1,3,4])"
      ]
    },
    {
      "cell_type": "code",
      "execution_count": 148,
      "id": "4ad77443",
      "metadata": {
        "id": "4ad77443"
      },
      "outputs": [],
      "source": [
        "# # not Pure (because of interacting with Other World)\n",
        "# new_list = []\n",
        "# def multiply_by2(li):\n",
        "#     for item in li:\n",
        "#         new_list.append(item*2)\n",
        "#     print(new_list)\n",
        "# new_list = ''\n",
        "# multiply_by2([1,3,4])"
      ]
    },
    {
      "cell_type": "markdown",
      "id": "498fa36b",
      "metadata": {
        "id": "498fa36b"
      },
      "source": [
        "### map()"
      ]
    },
    {
      "cell_type": "code",
      "execution_count": 128,
      "id": "93deb3a1",
      "metadata": {
        "colab": {
          "base_uri": "https://localhost:8080/"
        },
        "id": "93deb3a1",
        "outputId": "51a9efa6-67e5-4557-8a43-941542c14394"
      },
      "outputs": [
        {
          "output_type": "stream",
          "name": "stdout",
          "text": [
            "[2, 4, 6]\n"
          ]
        }
      ],
      "source": [
        "def multiply_by2(item):\n",
        "    return item*2\n",
        "print(list(map(multiply_by2, [1,2,3])))"
      ]
    },
    {
      "cell_type": "code",
      "execution_count": 129,
      "id": "7819e017",
      "metadata": {
        "colab": {
          "base_uri": "https://localhost:8080/"
        },
        "id": "7819e017",
        "outputId": "700d318f-f0a6-454c-bc53-b9afe92d70be"
      },
      "outputs": [
        {
          "output_type": "stream",
          "name": "stdout",
          "text": [
            "[2, 4, 6]\n",
            "[1, 2, 3]\n"
          ]
        }
      ],
      "source": [
        "my_list = [1,2,3]\n",
        "def multiply_by2(item):\n",
        "    return item*2\n",
        "print(list(map(multiply_by2, my_list)))\n",
        "print(my_list)"
      ]
    },
    {
      "cell_type": "markdown",
      "id": "80dc0f9a",
      "metadata": {
        "id": "80dc0f9a"
      },
      "source": [
        "### filter()"
      ]
    },
    {
      "cell_type": "code",
      "execution_count": 130,
      "id": "0fe1e41f",
      "metadata": {
        "colab": {
          "base_uri": "https://localhost:8080/"
        },
        "id": "0fe1e41f",
        "outputId": "e4f93820-b2e1-430f-92f6-f92b5c4e6d63"
      },
      "outputs": [
        {
          "output_type": "stream",
          "name": "stdout",
          "text": [
            "[1, 3, 41, 5, 29]\n",
            "[1, 2, 3, 4, 41, 5, 29, 44]\n"
          ]
        }
      ],
      "source": [
        "my_list = [1,2,3,4,41,5,29,44]\n",
        "def only_odd(item):\n",
        "    return item % 2 != 0\n",
        "print(list(filter(only_odd, my_list)))\n",
        "print(my_list)"
      ]
    },
    {
      "cell_type": "markdown",
      "id": "0abc837a",
      "metadata": {
        "id": "0abc837a"
      },
      "source": [
        "### zip()"
      ]
    },
    {
      "cell_type": "code",
      "execution_count": 131,
      "id": "6f9f29e0",
      "metadata": {
        "colab": {
          "base_uri": "https://localhost:8080/"
        },
        "id": "6f9f29e0",
        "outputId": "8144a575-3155-4d2f-c470-f403decc78a8"
      },
      "outputs": [
        {
          "output_type": "stream",
          "name": "stdout",
          "text": [
            "[(1, 10), (2, 20), (3, 30)]\n"
          ]
        }
      ],
      "source": [
        "my_list = [1,2,3]\n",
        "your_list = [10,20,30]\n",
        "\n",
        "print(list(zip(my_list,your_list)))"
      ]
    },
    {
      "cell_type": "code",
      "execution_count": 132,
      "id": "d30878be",
      "metadata": {
        "colab": {
          "base_uri": "https://localhost:8080/"
        },
        "id": "d30878be",
        "outputId": "6a80e1a0-d928-4817-d9fd-585e1fcc577c"
      },
      "outputs": [
        {
          "output_type": "stream",
          "name": "stdout",
          "text": [
            "[(1, 10), (2, 20), (3, 30)]\n"
          ]
        }
      ],
      "source": [
        "my_list = [1,2,3]\n",
        "your_list = (10,20,30)\n",
        "\n",
        "print(list(zip(my_list,your_list)))"
      ]
    },
    {
      "cell_type": "code",
      "execution_count": 133,
      "id": "39a432bf",
      "metadata": {
        "colab": {
          "base_uri": "https://localhost:8080/"
        },
        "id": "39a432bf",
        "outputId": "2ecebfdc-6bfb-4504-8311-df3f39eb4bbf"
      },
      "outputs": [
        {
          "output_type": "stream",
          "name": "stdout",
          "text": [
            "[(1, 10, 5), (2, 20, 4), (3, 30, 3)]\n",
            "[1, 2, 3]\n"
          ]
        }
      ],
      "source": [
        "my_list = [1,2,3]\n",
        "your_list = (10,20,30)\n",
        "their_list = [5,4,3]\n",
        "\n",
        "print(list(zip(my_list,your_list,their_list)))\n",
        "print(my_list)"
      ]
    },
    {
      "cell_type": "markdown",
      "id": "e1b993d0",
      "metadata": {
        "id": "e1b993d0"
      },
      "source": [
        "### reduce()"
      ]
    },
    {
      "cell_type": "code",
      "execution_count": 134,
      "id": "210c7901",
      "metadata": {
        "colab": {
          "base_uri": "https://localhost:8080/"
        },
        "id": "210c7901",
        "outputId": "2a38a411-3dcd-438e-efbf-a9c78691b7d3"
      },
      "outputs": [
        {
          "output_type": "stream",
          "name": "stdout",
          "text": [
            "0 1\n",
            "1 2\n",
            "3 3\n",
            "6\n",
            "[1, 2, 3]\n"
          ]
        }
      ],
      "source": [
        "from functools import reduce\n",
        "my_list = [1,2,3]\n",
        "def accumulator(acc,item):\n",
        "    print(acc,item)\n",
        "    return acc + item\n",
        "print(reduce(accumulator,my_list,0))\n",
        "print(my_list)"
      ]
    },
    {
      "cell_type": "code",
      "execution_count": 135,
      "id": "67a2b9dd",
      "metadata": {
        "colab": {
          "base_uri": "https://localhost:8080/"
        },
        "id": "67a2b9dd",
        "outputId": "b0f983ae-4d82-4696-a98f-46d1b5b83325"
      },
      "outputs": [
        {
          "output_type": "stream",
          "name": "stdout",
          "text": [
            "10 1\n",
            "11 2\n",
            "13 3\n",
            "16\n"
          ]
        }
      ],
      "source": [
        "print(reduce(accumulator,my_list,10))"
      ]
    },
    {
      "cell_type": "markdown",
      "id": "750a5e1e",
      "metadata": {
        "id": "750a5e1e"
      },
      "source": [
        "### List Comprehensions"
      ]
    },
    {
      "cell_type": "code",
      "execution_count": 136,
      "id": "461cc3b5",
      "metadata": {
        "colab": {
          "base_uri": "https://localhost:8080/"
        },
        "id": "461cc3b5",
        "outputId": "c6a170bb-8eff-474e-ca85-b776616e065e"
      },
      "outputs": [
        {
          "output_type": "stream",
          "name": "stdout",
          "text": [
            "['h', 'e', 'l', 'l', 'o']\n"
          ]
        }
      ],
      "source": [
        "# my_list = [param for param in iterable]\n",
        "my_list = []\n",
        "for char in 'hello':\n",
        "    my_list.append(char)\n",
        "print(my_list)"
      ]
    },
    {
      "cell_type": "code",
      "execution_count": 137,
      "id": "ee35203a",
      "metadata": {
        "colab": {
          "base_uri": "https://localhost:8080/"
        },
        "id": "ee35203a",
        "outputId": "bff4bdc0-da06-4f6f-aab3-a1ca785a0109"
      },
      "outputs": [
        {
          "output_type": "stream",
          "name": "stdout",
          "text": [
            "['h', 'e', 'l', 'l', 'o']\n"
          ]
        }
      ],
      "source": [
        "my_list = [char for char in 'hello']\n",
        "print(my_list)"
      ]
    },
    {
      "cell_type": "code",
      "execution_count": 138,
      "id": "79b2d77e",
      "metadata": {
        "colab": {
          "base_uri": "https://localhost:8080/"
        },
        "id": "79b2d77e",
        "outputId": "74bc87ba-7ec9-4fca-98fc-2c2c3b9d6958"
      },
      "outputs": [
        {
          "output_type": "stream",
          "name": "stdout",
          "text": [
            "[0, 1, 2, 3, 4, 5, 6, 7, 8, 9, 10, 11, 12, 13, 14, 15, 16, 17, 18, 19, 20, 21, 22, 23, 24, 25, 26, 27, 28, 29, 30, 31, 32, 33, 34, 35, 36, 37, 38, 39, 40, 41, 42, 43, 44, 45, 46, 47, 48, 49, 50, 51, 52, 53, 54, 55, 56, 57, 58, 59, 60, 61, 62, 63, 64, 65, 66, 67, 68, 69, 70, 71, 72, 73, 74, 75, 76, 77, 78, 79, 80, 81, 82, 83, 84, 85, 86, 87, 88, 89, 90, 91, 92, 93, 94, 95, 96, 97, 98, 99]\n"
          ]
        }
      ],
      "source": [
        "my_list = [number for number in range(100)]\n",
        "print(my_list)"
      ]
    },
    {
      "cell_type": "code",
      "execution_count": 139,
      "id": "f754ebd1",
      "metadata": {
        "colab": {
          "base_uri": "https://localhost:8080/"
        },
        "id": "f754ebd1",
        "outputId": "69c7c7df-416c-4774-d3a4-da4c8cfe9faa"
      },
      "outputs": [
        {
          "output_type": "stream",
          "name": "stdout",
          "text": [
            "[0, 2, 4, 6, 8, 10, 12, 14, 16, 18, 20, 22, 24, 26, 28, 30, 32, 34, 36, 38, 40, 42, 44, 46, 48, 50, 52, 54, 56, 58, 60, 62, 64, 66, 68, 70, 72, 74, 76, 78, 80, 82, 84, 86, 88, 90, 92, 94, 96, 98, 100, 102, 104, 106, 108, 110, 112, 114, 116, 118, 120, 122, 124, 126, 128, 130, 132, 134, 136, 138, 140, 142, 144, 146, 148, 150, 152, 154, 156, 158, 160, 162, 164, 166, 168, 170, 172, 174, 176, 178, 180, 182, 184, 186, 188, 190, 192, 194, 196, 198]\n"
          ]
        }
      ],
      "source": [
        "my_list = [2*number for number in range(100)]\n",
        "print(my_list)"
      ]
    },
    {
      "cell_type": "code",
      "execution_count": 140,
      "id": "6ccb76af",
      "metadata": {
        "colab": {
          "base_uri": "https://localhost:8080/"
        },
        "id": "6ccb76af",
        "outputId": "e009b55e-59e3-4ba6-f6e0-654c806d4e25"
      },
      "outputs": [
        {
          "output_type": "stream",
          "name": "stdout",
          "text": [
            "[1, 9, 25, 49, 81, 121, 169, 225, 289, 361, 441, 529, 625, 729, 841, 961, 1089, 1225, 1369, 1521, 1681, 1849, 2025, 2209, 2401, 2601, 2809, 3025, 3249, 3481, 3721, 3969, 4225, 4489, 4761, 5041, 5329, 5625, 5929, 6241, 6561, 6889, 7225, 7569, 7921, 8281, 8649, 9025, 9409, 9801]\n"
          ]
        }
      ],
      "source": [
        "my_list = [number**2 for number in range(100) if number % 2 != 0]\n",
        "print(my_list)"
      ]
    },
    {
      "cell_type": "markdown",
      "id": "59842bf3",
      "metadata": {
        "id": "59842bf3"
      },
      "source": [
        "### Set Comprehensions"
      ]
    },
    {
      "cell_type": "code",
      "execution_count": 141,
      "id": "ac657f51",
      "metadata": {
        "colab": {
          "base_uri": "https://localhost:8080/"
        },
        "id": "ac657f51",
        "outputId": "bb355a01-9328-435b-bccf-9a12cc1aabf8"
      },
      "outputs": [
        {
          "output_type": "stream",
          "name": "stdout",
          "text": [
            "{'o', 'l', 'h', 'e'}\n",
            "{1, 3969, 4225, 9, 3721, 4489, 5625, 529, 1681, 7569, 25, 3481, 4761, 289, 2209, 6561, 169, 2601, 5929, 49, 3249, 5041, 2809, 441, 1849, 7225, 961, 1089, 9025, 9409, 841, 1225, 8649, 9801, 81, 3025, 5329, 1369, 729, 8281, 225, 2401, 6241, 361, 2025, 6889, 625, 1521, 7921, 121}\n"
          ]
        }
      ],
      "source": [
        "my_list = {char for char in 'hello'}\n",
        "print(my_list)\n",
        "my_list = {number**2 for number in range(100) if number % 2 != 0}\n",
        "print(my_list)"
      ]
    },
    {
      "cell_type": "markdown",
      "id": "8bf243ee",
      "metadata": {
        "id": "8bf243ee"
      },
      "source": [
        "### Dictionary comprehensions"
      ]
    },
    {
      "cell_type": "code",
      "execution_count": 142,
      "id": "5fef43a7",
      "metadata": {
        "colab": {
          "base_uri": "https://localhost:8080/"
        },
        "id": "5fef43a7",
        "outputId": "bce5325f-e2e3-4da6-b3f9-a52b0f987508"
      },
      "outputs": [
        {
          "output_type": "stream",
          "name": "stdout",
          "text": [
            "{'a': 1, 'b': 4}\n"
          ]
        }
      ],
      "source": [
        "simple_dict = {\n",
        "    'a' : 1,\n",
        "    'b' : 2\n",
        "}\n",
        "my_dict = {key:value**2 for key,value in simple_dict.items()}\n",
        "print(my_dict)"
      ]
    },
    {
      "cell_type": "code",
      "execution_count": 143,
      "id": "3c6d39d1",
      "metadata": {
        "colab": {
          "base_uri": "https://localhost:8080/"
        },
        "id": "3c6d39d1",
        "outputId": "271019b0-e484-4737-a11b-d34f1bc8fdfd"
      },
      "outputs": [
        {
          "output_type": "stream",
          "name": "stdout",
          "text": [
            "{'b': 4}\n"
          ]
        }
      ],
      "source": [
        "my_dict = {k:v**2 for k,v in simple_dict.items() if v % 2 == 0}\n",
        "print(my_dict)"
      ]
    },
    {
      "cell_type": "code",
      "execution_count": 144,
      "id": "796a8de4",
      "metadata": {
        "colab": {
          "base_uri": "https://localhost:8080/"
        },
        "id": "796a8de4",
        "outputId": "5b9673fa-511b-4b0e-d6ee-73cfce251a68"
      },
      "outputs": [
        {
          "output_type": "stream",
          "name": "stdout",
          "text": [
            "{1: 2, 2: 4, 3: 6}\n"
          ]
        }
      ],
      "source": [
        "my_dict = {num:num*2 for num in [1,2,3]}\n",
        "print(my_dict)"
      ]
    },
    {
      "cell_type": "markdown",
      "id": "4e4cb5a5",
      "metadata": {
        "id": "4e4cb5a5"
      },
      "source": [
        "### Exercies Comprehensions"
      ]
    },
    {
      "cell_type": "code",
      "execution_count": 145,
      "id": "997cf1a4",
      "metadata": {
        "colab": {
          "base_uri": "https://localhost:8080/"
        },
        "id": "997cf1a4",
        "outputId": "7ececd29-4757-4ca9-ed7a-43c0dd464502"
      },
      "outputs": [
        {
          "output_type": "stream",
          "name": "stdout",
          "text": [
            "['b', 'n']\n"
          ]
        }
      ],
      "source": [
        "some_list = ['a', 'b', 'c', 'b', 'd', 'm', 'n', 'n']\n",
        "\n",
        "duplicates = []\n",
        "for value in some_list:\n",
        "    if some_list.count(value) > 1:\n",
        "        if value not in duplicates:\n",
        "            duplicates.append(value)\n",
        "\n",
        "print(duplicates)"
      ]
    },
    {
      "cell_type": "code",
      "execution_count": 146,
      "id": "8a8c475e",
      "metadata": {
        "colab": {
          "base_uri": "https://localhost:8080/"
        },
        "id": "8a8c475e",
        "outputId": "1855f672-02b0-4ee6-ea17-ce04d0b2eedf"
      },
      "outputs": [
        {
          "output_type": "stream",
          "name": "stdout",
          "text": [
            "['n', 'b']\n"
          ]
        }
      ],
      "source": [
        "some_list = ['a', 'b', 'c', 'b', 'd', 'm', 'n', 'n']\n",
        "duplicates = []\n",
        "duplicates = list(set([value for value in some_list if some_list.count(value) > 1 ]))\n",
        "print(duplicates)"
      ]
    },
    {
      "cell_type": "code",
      "source": [],
      "metadata": {
        "id": "dTFglTqYireh"
      },
      "id": "dTFglTqYireh",
      "execution_count": 146,
      "outputs": []
    }
  ],
  "metadata": {
    "kernelspec": {
      "display_name": "Python 3 (ipykernel)",
      "language": "python",
      "name": "python3"
    },
    "language_info": {
      "codemirror_mode": {
        "name": "ipython",
        "version": 3
      },
      "file_extension": ".py",
      "mimetype": "text/x-python",
      "name": "python",
      "nbconvert_exporter": "python",
      "pygments_lexer": "ipython3",
      "version": "3.11.4"
    },
    "colab": {
      "provenance": [],
      "include_colab_link": true
    }
  },
  "nbformat": 4,
  "nbformat_minor": 5
}