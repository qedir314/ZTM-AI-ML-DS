{
  "cells": [
    {
      "cell_type": "markdown",
      "metadata": {
        "id": "view-in-github",
        "colab_type": "text"
      },
      "source": [
        "<a href=\"https://colab.research.google.com/github/qedir314/ZTM-AI-ML-DS/blob/main/1_Python_1.ipynb\" target=\"_parent\"><img src=\"https://colab.research.google.com/assets/colab-badge.svg\" alt=\"Open In Colab\"/></a>"
      ]
    },
    {
      "cell_type": "markdown",
      "id": "1fcf7202",
      "metadata": {
        "id": "1fcf7202"
      },
      "source": [
        "## First code"
      ]
    },
    {
      "cell_type": "code",
      "execution_count": 1,
      "id": "b46805cd",
      "metadata": {
        "colab": {
          "base_uri": "https://localhost:8080/"
        },
        "id": "b46805cd",
        "outputId": "aba73e41-dad4-4013-f302-50075d2ecb7a"
      },
      "outputs": [
        {
          "output_type": "stream",
          "name": "stdout",
          "text": [
            "Hello World\n"
          ]
        }
      ],
      "source": [
        "print(\"Hello World\")"
      ]
    },
    {
      "cell_type": "code",
      "execution_count": 2,
      "id": "5004c355",
      "metadata": {
        "colab": {
          "base_uri": "https://localhost:8080/",
          "height": 53
        },
        "id": "5004c355",
        "outputId": "4f4af8b2-958e-4efa-a5d8-1b52fc985392"
      },
      "outputs": [
        {
          "name": "stdout",
          "output_type": "stream",
          "text": [
            "What's ur name:Jonas\n"
          ]
        },
        {
          "output_type": "execute_result",
          "data": {
            "text/plain": [
              "'Jonas'"
            ],
            "application/vnd.google.colaboratory.intrinsic+json": {
              "type": "string"
            }
          },
          "metadata": {},
          "execution_count": 2
        }
      ],
      "source": [
        "input(\"What's ur name:\")"
      ]
    },
    {
      "cell_type": "code",
      "execution_count": 3,
      "id": "ea592e54",
      "metadata": {
        "colab": {
          "base_uri": "https://localhost:8080/"
        },
        "id": "ea592e54",
        "outputId": "c148cfd9-22ca-477a-d218-1588dd1dea44"
      },
      "outputs": [
        {
          "output_type": "stream",
          "name": "stdout",
          "text": [
            "What's ur name?Jonas\n",
            "Jonas\n"
          ]
        }
      ],
      "source": [
        "name = input(\"What's ur name?\")\n",
        "print(name)"
      ]
    },
    {
      "cell_type": "code",
      "execution_count": 5,
      "id": "8217e2b7",
      "metadata": {
        "colab": {
          "base_uri": "https://localhost:8080/"
        },
        "id": "8217e2b7",
        "outputId": "bd522654-9f48-4d15-8d25-fdc6c8699326"
      },
      "outputs": [
        {
          "output_type": "stream",
          "name": "stdout",
          "text": [
            "Hellloooo Jonas\n"
          ]
        }
      ],
      "source": [
        "print(\"Hellloooo \" + name)"
      ]
    },
    {
      "cell_type": "markdown",
      "id": "372e33fa",
      "metadata": {
        "id": "372e33fa"
      },
      "source": [
        "### Fundamental Data Types\n",
        "int\n",
        "float\n",
        "bool\n",
        "str\n",
        "list\n",
        "tuple\n",
        "set\n",
        "dict\n",
        "\n",
        "### Classes---> Custom Data Types\n",
        "\n",
        "### Specialized Data Types\n",
        "Modules\n",
        "None"
      ]
    },
    {
      "cell_type": "markdown",
      "id": "d9f776f6",
      "metadata": {
        "id": "d9f776f6"
      },
      "source": [
        "### int and float"
      ]
    },
    {
      "cell_type": "code",
      "execution_count": 6,
      "id": "53498919",
      "metadata": {
        "colab": {
          "base_uri": "https://localhost:8080/"
        },
        "id": "53498919",
        "outputId": "6625e907-3126-49e7-9bad-d82a17ac7ed2"
      },
      "outputs": [
        {
          "output_type": "stream",
          "name": "stdout",
          "text": [
            "6\n",
            "-2\n",
            "8\n",
            "0.5\n"
          ]
        }
      ],
      "source": [
        "print(2+4)\n",
        "print(2-4)\n",
        "print(2*4)\n",
        "print(2/4)"
      ]
    },
    {
      "cell_type": "code",
      "execution_count": 7,
      "id": "f13460bc",
      "metadata": {
        "colab": {
          "base_uri": "https://localhost:8080/"
        },
        "id": "f13460bc",
        "outputId": "e6137da6-8f2c-4ea4-eb5b-df60f2b67e4f"
      },
      "outputs": [
        {
          "output_type": "stream",
          "name": "stdout",
          "text": [
            "<class 'int'>\n",
            "<class 'int'>\n",
            "<class 'int'>\n",
            "<class 'float'>\n"
          ]
        }
      ],
      "source": [
        "print(type(2+4))\n",
        "print(type(2-4))\n",
        "print(type(2*4))\n",
        "print(type(2/4))"
      ]
    },
    {
      "cell_type": "code",
      "execution_count": 8,
      "id": "89356518",
      "metadata": {
        "colab": {
          "base_uri": "https://localhost:8080/"
        },
        "id": "89356518",
        "outputId": "8edcba02-f662-4d7b-e9b6-05abbe3801f3"
      },
      "outputs": [
        {
          "output_type": "stream",
          "name": "stdout",
          "text": [
            "11.0\n",
            "<class 'float'>\n"
          ]
        }
      ],
      "source": [
        "print(9.9+1.1)\n",
        "print(type(9.9+1.1))"
      ]
    },
    {
      "cell_type": "code",
      "execution_count": 9,
      "id": "b6e1121c",
      "metadata": {
        "colab": {
          "base_uri": "https://localhost:8080/"
        },
        "id": "b6e1121c",
        "outputId": "c43d9856-7a66-4230-ea32-06ba746e0d40"
      },
      "outputs": [
        {
          "output_type": "stream",
          "name": "stdout",
          "text": [
            "8\n",
            "1\n",
            "2\n"
          ]
        }
      ],
      "source": [
        "print(2**3)\n",
        "print(6//4)\n",
        "print(7%5)"
      ]
    },
    {
      "cell_type": "markdown",
      "id": "85f6c22b",
      "metadata": {
        "id": "85f6c22b"
      },
      "source": [
        "### Math Functions"
      ]
    },
    {
      "cell_type": "code",
      "execution_count": 10,
      "id": "52bf0f92",
      "metadata": {
        "colab": {
          "base_uri": "https://localhost:8080/"
        },
        "id": "52bf0f92",
        "outputId": "69545443-d394-4d46-b1cb-a85c21d1f6c7"
      },
      "outputs": [
        {
          "output_type": "execute_result",
          "data": {
            "text/plain": [
              "3"
            ]
          },
          "metadata": {},
          "execution_count": 10
        }
      ],
      "source": [
        "round(3.1)"
      ]
    },
    {
      "cell_type": "code",
      "execution_count": 11,
      "id": "a0e4719d",
      "metadata": {
        "colab": {
          "base_uri": "https://localhost:8080/"
        },
        "id": "a0e4719d",
        "outputId": "89917ff5-f61d-4a54-8a4c-789dfcedf7b5"
      },
      "outputs": [
        {
          "output_type": "execute_result",
          "data": {
            "text/plain": [
              "4"
            ]
          },
          "metadata": {},
          "execution_count": 11
        }
      ],
      "source": [
        "round(3.9)"
      ]
    },
    {
      "cell_type": "code",
      "execution_count": 12,
      "id": "30fb40ef",
      "metadata": {
        "colab": {
          "base_uri": "https://localhost:8080/"
        },
        "id": "30fb40ef",
        "outputId": "69528725-6d74-4445-8fb8-7c8f21d94148"
      },
      "outputs": [
        {
          "output_type": "execute_result",
          "data": {
            "text/plain": [
              "-2"
            ]
          },
          "metadata": {},
          "execution_count": 12
        }
      ],
      "source": [
        "round(-2.1)"
      ]
    },
    {
      "cell_type": "code",
      "execution_count": 13,
      "id": "0f76d13b",
      "metadata": {
        "colab": {
          "base_uri": "https://localhost:8080/"
        },
        "id": "0f76d13b",
        "outputId": "7e38b956-69d3-486c-b68e-24c82e9ef680"
      },
      "outputs": [
        {
          "output_type": "execute_result",
          "data": {
            "text/plain": [
              "-3"
            ]
          },
          "metadata": {},
          "execution_count": 13
        }
      ],
      "source": [
        "round(-2.8)"
      ]
    },
    {
      "cell_type": "code",
      "execution_count": 14,
      "id": "64f3348b",
      "metadata": {
        "colab": {
          "base_uri": "https://localhost:8080/"
        },
        "id": "64f3348b",
        "outputId": "36cc8db5-3f29-48cd-b057-79817f41956b"
      },
      "outputs": [
        {
          "output_type": "execute_result",
          "data": {
            "text/plain": [
              "4.5"
            ]
          },
          "metadata": {},
          "execution_count": 14
        }
      ],
      "source": [
        "abs(-4.5)   #absolute value"
      ]
    },
    {
      "cell_type": "markdown",
      "id": "39b152f9",
      "metadata": {
        "id": "39b152f9"
      },
      "source": [
        "### Operator Precedence"
      ]
    },
    {
      "cell_type": "code",
      "execution_count": 15,
      "id": "943a0f51",
      "metadata": {
        "colab": {
          "base_uri": "https://localhost:8080/"
        },
        "id": "943a0f51",
        "outputId": "6ecce5dc-58ee-4b41-b580-36ba40eab1c3"
      },
      "outputs": [
        {
          "output_type": "stream",
          "name": "stdout",
          "text": [
            "8\n",
            "21\n"
          ]
        }
      ],
      "source": [
        "print(20 - 3 *4)\n",
        "print(( 20 - 3 ) + 2 ** 2)"
      ]
    },
    {
      "cell_type": "markdown",
      "id": "a23b0dfb",
      "metadata": {
        "id": "a23b0dfb"
      },
      "source": [
        "### Binary and Decimal"
      ]
    },
    {
      "cell_type": "code",
      "execution_count": 16,
      "id": "ecc5daba",
      "metadata": {
        "colab": {
          "base_uri": "https://localhost:8080/"
        },
        "id": "ecc5daba",
        "outputId": "b4afacca-8c98-43f3-afca-93a447e8e73f"
      },
      "outputs": [
        {
          "output_type": "stream",
          "name": "stdout",
          "text": [
            "0b101\n",
            "5\n"
          ]
        }
      ],
      "source": [
        "print( bin (5) )\n",
        "print( int ('0b101', 2) )"
      ]
    },
    {
      "cell_type": "markdown",
      "id": "158abb3b",
      "metadata": {
        "id": "158abb3b"
      },
      "source": [
        "### Variables"
      ]
    },
    {
      "cell_type": "code",
      "execution_count": 17,
      "id": "90ac95d7",
      "metadata": {
        "colab": {
          "base_uri": "https://localhost:8080/"
        },
        "id": "90ac95d7",
        "outputId": "f9aeb6ba-f7fb-4f9f-aefb-0994ade18382"
      },
      "outputs": [
        {
          "output_type": "stream",
          "name": "stdout",
          "text": [
            "130\n"
          ]
        }
      ],
      "source": [
        "iq = 130\n",
        "print(iq)"
      ]
    },
    {
      "cell_type": "code",
      "execution_count": 18,
      "id": "8f9f9684",
      "metadata": {
        "colab": {
          "base_uri": "https://localhost:8080/"
        },
        "id": "8f9f9684",
        "outputId": "a6776e7c-080b-499f-bb25-a9e4c7fbcbe6"
      },
      "outputs": [
        {
          "output_type": "stream",
          "name": "stdout",
          "text": [
            "4\n",
            "5\n",
            "20\n"
          ]
        }
      ],
      "source": [
        "a,b,c = 4,5,20\n",
        "print(a)\n",
        "print(b)\n",
        "print(c)"
      ]
    },
    {
      "cell_type": "markdown",
      "id": "35d3acef",
      "metadata": {
        "id": "35d3acef"
      },
      "source": [
        "### Expressions vs Statements"
      ]
    },
    {
      "cell_type": "code",
      "execution_count": 19,
      "id": "cb469b23",
      "metadata": {
        "id": "cb469b23"
      },
      "outputs": [],
      "source": [
        "iq = 130 #Statement\n",
        "user_iq = 130 / 4         #total Statement       #130/4 is Expression"
      ]
    },
    {
      "cell_type": "markdown",
      "id": "5aa7fa9b",
      "metadata": {
        "id": "5aa7fa9b"
      },
      "source": [
        "### Strings"
      ]
    },
    {
      "cell_type": "code",
      "execution_count": 20,
      "id": "cdc63cae",
      "metadata": {
        "colab": {
          "base_uri": "https://localhost:8080/"
        },
        "id": "cdc63cae",
        "outputId": "e2c212aa-c8d1-4738-f735-9998966082f8"
      },
      "outputs": [
        {
          "output_type": "stream",
          "name": "stdout",
          "text": [
            "<class 'str'>\n"
          ]
        }
      ],
      "source": [
        "print(type(\"Hello There\"))"
      ]
    },
    {
      "cell_type": "code",
      "execution_count": 21,
      "id": "c0e9ae42",
      "metadata": {
        "colab": {
          "base_uri": "https://localhost:8080/"
        },
        "id": "c0e9ae42",
        "outputId": "ca3dc958-4849-4ec1-facc-4126b6e81e22"
      },
      "outputs": [
        {
          "output_type": "stream",
          "name": "stdout",
          "text": [
            "\n",
            "WOW\n",
            "0 0\n",
            "---\n",
            "\n"
          ]
        }
      ],
      "source": [
        "username = 'supercoder'\n",
        "password = 'supersecret'\n",
        "long_string = '''\n",
        "WOW\n",
        "0 0\n",
        "---\n",
        "'''\n",
        "print(long_string)"
      ]
    },
    {
      "cell_type": "code",
      "execution_count": 22,
      "id": "a4135480",
      "metadata": {
        "colab": {
          "base_uri": "https://localhost:8080/"
        },
        "id": "a4135480",
        "outputId": "1b889854-b4d5-4a8f-a58e-db06af1735c7"
      },
      "outputs": [
        {
          "output_type": "stream",
          "name": "stdout",
          "text": [
            "Messi Mbappe\n"
          ]
        }
      ],
      "source": [
        "first_name = \"Messi\"\n",
        "last_name = \"Mbappe\"\n",
        "full_name = first_name + \" \" + last_name\n",
        "print(full_name)"
      ]
    },
    {
      "cell_type": "markdown",
      "id": "d700d33a",
      "metadata": {
        "id": "d700d33a"
      },
      "source": [
        "### String Concatenation"
      ]
    },
    {
      "cell_type": "code",
      "execution_count": 23,
      "id": "7b23e6ef",
      "metadata": {
        "colab": {
          "base_uri": "https://localhost:8080/"
        },
        "id": "7b23e6ef",
        "outputId": "d0ed3bdb-98aa-45bb-fe00-460ba8476bb9"
      },
      "outputs": [
        {
          "output_type": "stream",
          "name": "stdout",
          "text": [
            "Bitcoin And Ethereum\n"
          ]
        }
      ],
      "source": [
        "print(\"Bitcoin\" + \" And \" + \"Ethereum\")"
      ]
    },
    {
      "cell_type": "markdown",
      "id": "2bd59b62",
      "metadata": {
        "id": "2bd59b62"
      },
      "source": [
        "### Type Conversion"
      ]
    },
    {
      "cell_type": "code",
      "execution_count": 24,
      "id": "1184e534",
      "metadata": {
        "colab": {
          "base_uri": "https://localhost:8080/"
        },
        "id": "1184e534",
        "outputId": "9a7e9da5-703b-4f7b-aa09-9e4edfb9a633"
      },
      "outputs": [
        {
          "output_type": "stream",
          "name": "stdout",
          "text": [
            "<class 'str'>\n"
          ]
        }
      ],
      "source": [
        "a = str(100)\n",
        "b = a\n",
        "c = type(b)\n",
        "print(c)"
      ]
    },
    {
      "cell_type": "markdown",
      "id": "fb510d45",
      "metadata": {
        "id": "fb510d45"
      },
      "source": [
        "### Escape Sequences"
      ]
    },
    {
      "cell_type": "code",
      "execution_count": 25,
      "id": "ea02d1a7",
      "metadata": {
        "colab": {
          "base_uri": "https://localhost:8080/"
        },
        "id": "ea02d1a7",
        "outputId": "901d54e4-1289-4234-f762-28b1748edab3"
      },
      "outputs": [
        {
          "output_type": "stream",
          "name": "stdout",
          "text": [
            "it's \"kind of\" sunny\n",
            "hope u have good day\n",
            "\t it's \"kind of\" sunny\n"
          ]
        }
      ],
      "source": [
        "weather = \"it\\'s \\\"kind of\\\" sunny\\nhope u have good day\"\n",
        "print(weather)\n",
        "weather = \"\\t it\\'s \\\"kind of\\\" sunny\"\n",
        "print(weather)"
      ]
    },
    {
      "cell_type": "markdown",
      "id": "faf9edeb",
      "metadata": {
        "id": "faf9edeb"
      },
      "source": [
        "### Formatted Strings"
      ]
    },
    {
      "cell_type": "code",
      "execution_count": 26,
      "id": "45fc9041",
      "metadata": {
        "colab": {
          "base_uri": "https://localhost:8080/"
        },
        "id": "45fc9041",
        "outputId": "631d5063-1fe8-4dc2-deb9-a6ce6a07933e"
      },
      "outputs": [
        {
          "output_type": "stream",
          "name": "stdout",
          "text": [
            "hi Johnny. You are 52 years old.\n",
            "hi Johnny. You are 52 years old.\n",
            "hi Johnny. You are 52 years old.\n",
            "hi Johnny. You are 52 years old.\n",
            "hi 52. You are Johnny years old.\n",
            "hi Sally. You are 100 years old.\n"
          ]
        }
      ],
      "source": [
        "name = 'Johnny'\n",
        "age = 52\n",
        "\n",
        "print('hi ' + name + '. You are ' + str(age) + ' years old.')\n",
        "print(f'hi {name}. You are {age} years old.')\n",
        "print('hi {}. You are {} years old.'.format('Johnny',52))\n",
        "print('hi {}. You are {} years old.'.format(name, age))\n",
        "print('hi {1}. You are {0} years old.'.format(name, age))\n",
        "print('hi {new_name}. You are {age} years old.'.format(new_name='Sally', age=100))"
      ]
    },
    {
      "cell_type": "markdown",
      "id": "a610dfc7",
      "metadata": {
        "id": "a610dfc7"
      },
      "source": [
        "### String Indexes"
      ]
    },
    {
      "cell_type": "code",
      "execution_count": 27,
      "id": "8f05a52f",
      "metadata": {
        "colab": {
          "base_uri": "https://localhost:8080/"
        },
        "id": "8f05a52f",
        "outputId": "cfdf7f80-c23a-4616-aac0-dcb9ad9d3aff"
      },
      "outputs": [
        {
          "output_type": "stream",
          "name": "stdout",
          "text": [
            "01234567\n",
            "0246\n",
            "1234567\n",
            "01234\n",
            "01234567\n",
            "7\n",
            "76543210\n",
            "7531\n"
          ]
        }
      ],
      "source": [
        "selfish = '01234567'\n",
        "          #01234567\n",
        "  #start:stop:step\n",
        "print(selfish[0:8])\n",
        "print(selfish[0:8:2])\n",
        "print(selfish[1:])\n",
        "print(selfish[:5])\n",
        "print(selfish[::1])\n",
        "print(selfish[-1])\n",
        "print(selfish[::-1])\n",
        "print(selfish[::-2])"
      ]
    },
    {
      "cell_type": "markdown",
      "id": "f2155afd",
      "metadata": {
        "id": "f2155afd"
      },
      "source": [
        "### Immutability"
      ]
    },
    {
      "cell_type": "code",
      "execution_count": 29,
      "id": "f7b2006a",
      "metadata": {
        "colab": {
          "base_uri": "https://localhost:8080/"
        },
        "id": "f7b2006a",
        "outputId": "9207dc16-9784-45ab-a72c-5614f9183ad0"
      },
      "outputs": [
        {
          "output_type": "stream",
          "name": "stdout",
          "text": [
            "01234567\n"
          ]
        }
      ],
      "source": [
        "selfish = '01234567'\n",
        "          #01234567\n",
        "# selfish[0] = 8   # impossible\n",
        "print(selfish)"
      ]
    },
    {
      "cell_type": "code",
      "execution_count": 30,
      "id": "aa55df0b",
      "metadata": {
        "colab": {
          "base_uri": "https://localhost:8080/"
        },
        "id": "aa55df0b",
        "outputId": "5d008bf8-f882-4c2d-8b5a-09e7a47f871b"
      },
      "outputs": [
        {
          "output_type": "stream",
          "name": "stdout",
          "text": [
            "012345678\n"
          ]
        }
      ],
      "source": [
        "selfish = selfish + '8'\n",
        "print(selfish)"
      ]
    },
    {
      "cell_type": "markdown",
      "id": "9c5fdd2a",
      "metadata": {
        "id": "9c5fdd2a"
      },
      "source": [
        "### Built-in Functions"
      ]
    },
    {
      "cell_type": "code",
      "execution_count": 31,
      "id": "4fc70dda",
      "metadata": {
        "colab": {
          "base_uri": "https://localhost:8080/"
        },
        "id": "4fc70dda",
        "outputId": "5fd6a013-3357-477e-acb1-465ed3613ff5"
      },
      "outputs": [
        {
          "output_type": "stream",
          "name": "stdout",
          "text": [
            "6\n"
          ]
        }
      ],
      "source": [
        "print(len(\"Helloo\"))"
      ]
    },
    {
      "cell_type": "code",
      "execution_count": 32,
      "id": "2cc0c119",
      "metadata": {
        "colab": {
          "base_uri": "https://localhost:8080/"
        },
        "id": "2cc0c119",
        "outputId": "542f2c4d-21e2-4960-de9d-3033812dcab2"
      },
      "outputs": [
        {
          "output_type": "stream",
          "name": "stdout",
          "text": [
            "hellooo\n"
          ]
        }
      ],
      "source": [
        "greet = \"hellooo\"\n",
        "print(greet[0:len(greet)])"
      ]
    },
    {
      "cell_type": "code",
      "execution_count": 33,
      "id": "47c7adab",
      "metadata": {
        "colab": {
          "base_uri": "https://localhost:8080/"
        },
        "id": "47c7adab",
        "outputId": "b722c15e-05c6-4bb2-b2e6-5c509c99f8e9"
      },
      "outputs": [
        {
          "output_type": "stream",
          "name": "stdout",
          "text": [
            "TO BE OR NOT TO BE\n",
            "To be or not to be\n",
            "3\n",
            "to me or not to me\n",
            "to be or not to be\n"
          ]
        }
      ],
      "source": [
        "quote = \"to be or not to be\"\n",
        "print(quote.upper())\n",
        "print(quote.capitalize())\n",
        "print(quote.find('be'))\n",
        "quote2 = quote.replace('be', 'me')\n",
        "print(quote2)\n",
        "print(quote)"
      ]
    },
    {
      "cell_type": "markdown",
      "id": "1eb6abc6",
      "metadata": {
        "id": "1eb6abc6"
      },
      "source": [
        "### Booleans"
      ]
    },
    {
      "cell_type": "code",
      "execution_count": 34,
      "id": "7f94e76d",
      "metadata": {
        "colab": {
          "base_uri": "https://localhost:8080/"
        },
        "id": "7f94e76d",
        "outputId": "62d4c536-5be4-42f6-d1c0-e2f54e8e22a1"
      },
      "outputs": [
        {
          "output_type": "stream",
          "name": "stdout",
          "text": [
            "True\n",
            "False\n",
            "True\n",
            "False\n"
          ]
        }
      ],
      "source": [
        "name = 'Andrei'\n",
        "is_cool = False\n",
        "is_cool = True\n",
        "\n",
        "print(bool(1))\n",
        "print(bool(0))\n",
        "print(bool(\"False\"))\n",
        "print(bool(''))"
      ]
    },
    {
      "cell_type": "markdown",
      "id": "7172050a",
      "metadata": {
        "id": "7172050a"
      },
      "source": [
        "### Password Checker"
      ]
    },
    {
      "cell_type": "code",
      "execution_count": 35,
      "id": "ccb54740",
      "metadata": {
        "colab": {
          "base_uri": "https://localhost:8080/"
        },
        "id": "ccb54740",
        "outputId": "7ccb6a2a-e761-4685-e75a-216dd76e25f9"
      },
      "outputs": [
        {
          "output_type": "stream",
          "name": "stdout",
          "text": [
            "Enter your username?jonas00\n",
            "What is your password?jonas01\n",
            "jonas00,your password, *******, is 7 letters long.\n"
          ]
        }
      ],
      "source": [
        "username = input(\"Enter your username?\")\n",
        "password = input(\"What is your password?\")\n",
        "\n",
        "password_length = len(password)\n",
        "hidden_password = '*' * password_length\n",
        "print(f\"{username},your password, {hidden_password}, is {password_length} letters long.\")"
      ]
    },
    {
      "cell_type": "markdown",
      "id": "08b667fc",
      "metadata": {
        "id": "08b667fc"
      },
      "source": [
        "### Lists"
      ]
    },
    {
      "cell_type": "code",
      "execution_count": 36,
      "id": "b34de0d4",
      "metadata": {
        "id": "b34de0d4"
      },
      "outputs": [],
      "source": [
        "li = [1,2,3,4,5]\n",
        "li2 = ['a', 'b', 'c']\n",
        "li3 = [1, 2.5, 'a', True]"
      ]
    },
    {
      "cell_type": "code",
      "execution_count": 38,
      "id": "7666d9bc",
      "metadata": {
        "colab": {
          "base_uri": "https://localhost:8080/"
        },
        "id": "7666d9bc",
        "outputId": "30b8f88a-3fb6-4ec0-d88d-1bbc6b97f142"
      },
      "outputs": [
        {
          "output_type": "stream",
          "name": "stdout",
          "text": [
            "notebooks\n",
            "sunglasses\n",
            "notebooks\n"
          ]
        }
      ],
      "source": [
        "amazon = ['notebooks','sunglasses']\n",
        "print(amazon[0])\n",
        "print(amazon[1])\n",
        "print(amazon[-2])\n",
        "# print(amazon[2]) out of range"
      ]
    },
    {
      "cell_type": "markdown",
      "id": "6dce47ba",
      "metadata": {
        "id": "6dce47ba"
      },
      "source": [
        "### List Slicing"
      ]
    },
    {
      "cell_type": "code",
      "execution_count": 39,
      "id": "6b132787",
      "metadata": {
        "colab": {
          "base_uri": "https://localhost:8080/"
        },
        "id": "6b132787",
        "outputId": "d1a97d4a-4088-42d5-beae-501c29fd6c90"
      },
      "outputs": [
        {
          "output_type": "stream",
          "name": "stdout",
          "text": [
            "['notebooks', 'sunglasses']\n",
            "['notebooks', 'toys']\n",
            "['laptop', 'sunglasses', 'toys', 'grapes']\n",
            "['sunglasses', 'toys']\n"
          ]
        }
      ],
      "source": [
        "amazon = ['notebooks','sunglasses','toys','grapes']\n",
        "print(amazon[0:2])\n",
        "print(amazon[0::2])\n",
        "amazon[0] = 'laptop'\n",
        "print(amazon)\n",
        "print(amazon[1:3])"
      ]
    },
    {
      "cell_type": "code",
      "execution_count": 40,
      "id": "3a50fa92",
      "metadata": {
        "colab": {
          "base_uri": "https://localhost:8080/"
        },
        "id": "3a50fa92",
        "outputId": "2b89fc9a-43cc-41ae-b80e-bc3efc29ab15"
      },
      "outputs": [
        {
          "output_type": "stream",
          "name": "stdout",
          "text": [
            "['gum', 'sunglasses', 'toys']\n"
          ]
        }
      ],
      "source": [
        "new = amazon[0:3]\n",
        "new[0] = 'gum'\n",
        "print(new)"
      ]
    },
    {
      "cell_type": "markdown",
      "id": "2df597a9",
      "metadata": {
        "id": "2df597a9"
      },
      "source": [
        "### Matrix"
      ]
    },
    {
      "cell_type": "code",
      "execution_count": 41,
      "id": "d63d8438",
      "metadata": {
        "colab": {
          "base_uri": "https://localhost:8080/"
        },
        "id": "d63d8438",
        "outputId": "5c47a239-d4c3-4291-b278-aebf9becfd92"
      },
      "outputs": [
        {
          "output_type": "stream",
          "name": "stdout",
          "text": [
            "6\n",
            "[4, 5, 6]\n",
            "[[1, 2, 3], [4, 5, 6], [7, 8, 9]]\n"
          ]
        }
      ],
      "source": [
        "matrix = [\n",
        "    [1,2,3],\n",
        "    [4,5,6],\n",
        "    [7,8,9]\n",
        "]\n",
        "print(matrix[1][2])\n",
        "print(matrix[1])\n",
        "print(matrix[:][:])"
      ]
    },
    {
      "cell_type": "markdown",
      "id": "4f383391",
      "metadata": {
        "id": "4f383391"
      },
      "source": [
        "### List Methods"
      ]
    },
    {
      "cell_type": "code",
      "execution_count": 42,
      "id": "3a41e4ba",
      "metadata": {
        "colab": {
          "base_uri": "https://localhost:8080/"
        },
        "id": "3a41e4ba",
        "outputId": "65c2fb15-4270-4932-d36f-9029759e8fd6"
      },
      "outputs": [
        {
          "output_type": "stream",
          "name": "stdout",
          "text": [
            "5\n"
          ]
        }
      ],
      "source": [
        "basket = [1,2,3,4,5]\n",
        "print(len(basket))"
      ]
    },
    {
      "cell_type": "code",
      "execution_count": 43,
      "id": "3d9f054f",
      "metadata": {
        "colab": {
          "base_uri": "https://localhost:8080/"
        },
        "id": "3d9f054f",
        "outputId": "861b33fb-7c18-4fb0-9ab5-a98fbe54bc99"
      },
      "outputs": [
        {
          "output_type": "stream",
          "name": "stdout",
          "text": [
            "[1, 2, 3, 4, 5, 100]\n",
            "None\n"
          ]
        }
      ],
      "source": [
        "# Adding\n",
        "new_list = basket.append(100)\n",
        "print(basket)\n",
        "print(new_list)"
      ]
    },
    {
      "cell_type": "code",
      "execution_count": 44,
      "id": "57bb3851",
      "metadata": {
        "colab": {
          "base_uri": "https://localhost:8080/"
        },
        "id": "57bb3851",
        "outputId": "b765ee86-4fe1-4cb5-b215-d3782be4e829"
      },
      "outputs": [
        {
          "output_type": "stream",
          "name": "stdout",
          "text": [
            "[1, 2, 3, 4, 5, 100, 250]\n",
            "[1, 2, 3, 4, 5, 100, 250]\n"
          ]
        }
      ],
      "source": [
        "basket.append(250)\n",
        "new_list = basket\n",
        "print(basket)\n",
        "print(new_list)"
      ]
    },
    {
      "cell_type": "code",
      "execution_count": 45,
      "id": "f5dde43e",
      "metadata": {
        "colab": {
          "base_uri": "https://localhost:8080/"
        },
        "id": "f5dde43e",
        "outputId": "6c149d10-ec27-413c-fed1-49079aeb0d92"
      },
      "outputs": [
        {
          "output_type": "stream",
          "name": "stdout",
          "text": [
            "[1, 150, 2, 3, 4, 5, 6]\n"
          ]
        }
      ],
      "source": [
        "basket1 = [1,2,3,4,5,6]\n",
        "basket1.insert(1,150)\n",
        "print(basket1)"
      ]
    },
    {
      "cell_type": "code",
      "execution_count": 46,
      "id": "6df49aa9",
      "metadata": {
        "colab": {
          "base_uri": "https://localhost:8080/"
        },
        "id": "6df49aa9",
        "outputId": "883cb434-2cca-43ae-e50a-a6692314acd3"
      },
      "outputs": [
        {
          "output_type": "stream",
          "name": "stdout",
          "text": [
            "[1, 150, 2, 3, 4, 5, 100, 6]\n"
          ]
        }
      ],
      "source": [
        "basket1.insert(6,100)\n",
        "print(basket1)"
      ]
    },
    {
      "cell_type": "code",
      "execution_count": 47,
      "id": "00e6b9e3",
      "metadata": {
        "colab": {
          "base_uri": "https://localhost:8080/"
        },
        "id": "00e6b9e3",
        "outputId": "877c8b5c-b5a8-4e85-9bb3-dd61ec8447c3"
      },
      "outputs": [
        {
          "output_type": "stream",
          "name": "stdout",
          "text": [
            "[1, 150, 2, 3, 4, 5, 100, 6, 103]\n"
          ]
        }
      ],
      "source": [
        "basket1.insert(9,103)\n",
        "print(basket1)"
      ]
    },
    {
      "cell_type": "code",
      "execution_count": 48,
      "id": "173f9d4e",
      "metadata": {
        "colab": {
          "base_uri": "https://localhost:8080/"
        },
        "id": "173f9d4e",
        "outputId": "48969066-0505-4121-c23f-57b12f6134eb"
      },
      "outputs": [
        {
          "output_type": "stream",
          "name": "stdout",
          "text": [
            "[1, 2, 3, 4, 5, 6, 2, 123, 23222]\n"
          ]
        }
      ],
      "source": [
        "basket2 = [1,2,3,4,5,6]\n",
        "basket2.extend([2,123,23222])\n",
        "print(basket2)"
      ]
    },
    {
      "cell_type": "code",
      "execution_count": 49,
      "id": "f7d63ee1",
      "metadata": {
        "colab": {
          "base_uri": "https://localhost:8080/"
        },
        "id": "f7d63ee1",
        "outputId": "fd6abb3e-12f9-4bdd-ed48-f3e2785de093"
      },
      "outputs": [
        {
          "output_type": "stream",
          "name": "stdout",
          "text": [
            "[1, 2, 3, 4, 5]\n"
          ]
        }
      ],
      "source": [
        "#Removing\n",
        "basket = [1,2,3,4,5,6]\n",
        "basket.pop()\n",
        "print(basket)"
      ]
    },
    {
      "cell_type": "code",
      "execution_count": 50,
      "id": "ed2eeb09",
      "metadata": {
        "colab": {
          "base_uri": "https://localhost:8080/"
        },
        "id": "ed2eeb09",
        "outputId": "ed96c044-5483-4de9-fb2c-f1429efd5549"
      },
      "outputs": [
        {
          "output_type": "stream",
          "name": "stdout",
          "text": [
            "[1, 3, 4, 5]\n"
          ]
        }
      ],
      "source": [
        "basket.pop(1)\n",
        "print(basket)"
      ]
    },
    {
      "cell_type": "code",
      "execution_count": 51,
      "id": "70c1bf45",
      "metadata": {
        "colab": {
          "base_uri": "https://localhost:8080/"
        },
        "id": "70c1bf45",
        "outputId": "108ae420-2e50-4894-dd3c-c8496fd7ef4c"
      },
      "outputs": [
        {
          "output_type": "stream",
          "name": "stdout",
          "text": [
            "[1, 3, 5]\n"
          ]
        }
      ],
      "source": [
        "basket.remove(4)\n",
        "print(basket)"
      ]
    },
    {
      "cell_type": "code",
      "execution_count": 52,
      "id": "4a16ba2e",
      "metadata": {
        "colab": {
          "base_uri": "https://localhost:8080/"
        },
        "id": "4a16ba2e",
        "outputId": "a08d3f08-9708-43dd-9626-fb707843fdf5"
      },
      "outputs": [
        {
          "output_type": "stream",
          "name": "stdout",
          "text": [
            "None\n"
          ]
        }
      ],
      "source": [
        "basket3 = [1,2,3,4,5]\n",
        "new_list = basket3.remove(2)\n",
        "print(new_list)"
      ]
    },
    {
      "cell_type": "code",
      "execution_count": 53,
      "id": "e248ad15",
      "metadata": {
        "colab": {
          "base_uri": "https://localhost:8080/"
        },
        "id": "e248ad15",
        "outputId": "7124483b-f7ad-419a-e0cb-d267b933682d"
      },
      "outputs": [
        {
          "output_type": "stream",
          "name": "stdout",
          "text": [
            "3\n"
          ]
        }
      ],
      "source": [
        "basket3 = [1,2,3,4,5]\n",
        "new_list = basket3.pop(2)\n",
        "print(new_list)"
      ]
    },
    {
      "cell_type": "code",
      "execution_count": 54,
      "id": "384288af",
      "metadata": {
        "colab": {
          "base_uri": "https://localhost:8080/"
        },
        "id": "384288af",
        "outputId": "3ebca6cc-ecb6-4607-caf6-dee6c34530db"
      },
      "outputs": [
        {
          "output_type": "stream",
          "name": "stdout",
          "text": [
            "[]\n"
          ]
        }
      ],
      "source": [
        "basket3.clear()\n",
        "print(basket3)"
      ]
    },
    {
      "cell_type": "markdown",
      "id": "9a1529ad",
      "metadata": {
        "id": "9a1529ad"
      },
      "source": [
        "### List Methods 2"
      ]
    },
    {
      "cell_type": "code",
      "execution_count": 55,
      "id": "82841d76",
      "metadata": {
        "colab": {
          "base_uri": "https://localhost:8080/"
        },
        "id": "82841d76",
        "outputId": "61775896-cedd-4d16-e7eb-3599be5cda54"
      },
      "outputs": [
        {
          "output_type": "stream",
          "name": "stdout",
          "text": [
            "3\n",
            "2\n",
            "1\n"
          ]
        }
      ],
      "source": [
        "basket = ['a','b','c','d','e']\n",
        "print(basket.index('d'))\n",
        "print(basket.index('c',0,4))\n",
        "print(basket.count('d'))"
      ]
    },
    {
      "cell_type": "markdown",
      "id": "b49f6298",
      "metadata": {
        "id": "b49f6298"
      },
      "source": [
        "### List Methods 3"
      ]
    },
    {
      "cell_type": "code",
      "execution_count": 56,
      "id": "9b3f1798",
      "metadata": {
        "colab": {
          "base_uri": "https://localhost:8080/"
        },
        "id": "9b3f1798",
        "outputId": "b1875ab2-08eb-4ebd-88c4-1a298f4ed162"
      },
      "outputs": [
        {
          "output_type": "stream",
          "name": "stdout",
          "text": [
            "[0, 1, 2, 2, 5, 5, 8, 9]\n"
          ]
        }
      ],
      "source": [
        "basket = [2,8,5,2,1,0,5,9]\n",
        "basket.sort()\n",
        "print(basket)"
      ]
    },
    {
      "cell_type": "code",
      "execution_count": 57,
      "id": "c1f72375",
      "metadata": {
        "colab": {
          "base_uri": "https://localhost:8080/"
        },
        "id": "c1f72375",
        "outputId": "934e7f4e-5726-4c49-bc25-02339adde179"
      },
      "outputs": [
        {
          "output_type": "stream",
          "name": "stdout",
          "text": [
            "[0, 1, 2, 2, 5, 5, 8, 9]\n",
            "[2, 8, 5, 2, 1, 0, 5, 9]\n"
          ]
        }
      ],
      "source": [
        "basket = [2,8,5,2,1,0,5,9]\n",
        "print(sorted(basket))\n",
        "print(basket)"
      ]
    },
    {
      "cell_type": "code",
      "execution_count": 58,
      "id": "006eeda5",
      "metadata": {
        "colab": {
          "base_uri": "https://localhost:8080/"
        },
        "id": "006eeda5",
        "outputId": "0da1026d-9ead-4777-8502-75d710dc1600"
      },
      "outputs": [
        {
          "output_type": "stream",
          "name": "stdout",
          "text": [
            "[9, 5, 0, 1, 2, 5, 8, 2]\n"
          ]
        }
      ],
      "source": [
        "basket = [2,8,5,2,1,0,5,9]\n",
        "basket.reverse()\n",
        "print(basket)"
      ]
    },
    {
      "cell_type": "code",
      "execution_count": 59,
      "id": "86c657fd",
      "metadata": {
        "colab": {
          "base_uri": "https://localhost:8080/"
        },
        "id": "86c657fd",
        "outputId": "cac7d27a-39c9-41f4-8f7a-e0da95b723d6"
      },
      "outputs": [
        {
          "output_type": "stream",
          "name": "stdout",
          "text": [
            "[9, 8, 5, 5, 2, 2, 1, 0]\n"
          ]
        }
      ],
      "source": [
        "basket = [2,8,5,2,1,0,5,9]\n",
        "basket.sort()\n",
        "basket.reverse()\n",
        "print(basket)"
      ]
    },
    {
      "cell_type": "markdown",
      "id": "3a349275",
      "metadata": {
        "id": "3a349275"
      },
      "source": [
        "### Common List Patterns"
      ]
    },
    {
      "cell_type": "code",
      "execution_count": 60,
      "id": "73c9a556",
      "metadata": {
        "colab": {
          "base_uri": "https://localhost:8080/"
        },
        "id": "73c9a556",
        "outputId": "336f5224-1113-4c17-d2f1-afe2af9fd671"
      },
      "outputs": [
        {
          "output_type": "stream",
          "name": "stdout",
          "text": [
            "[1, 2, 3, 4, 5, 6, 7, 8, 9, 10, 11, 12, 13, 14, 15, 16, 17, 18, 19, 20, 21, 22, 23, 24, 25, 26, 27, 28, 29, 30, 31, 32, 33, 34, 35, 36, 37, 38, 39, 40, 41, 42, 43, 44, 45, 46, 47, 48, 49, 50, 51, 52, 53, 54, 55, 56, 57, 58, 59, 60, 61, 62, 63, 64, 65, 66, 67, 68, 69, 70, 71, 72, 73, 74, 75, 76, 77, 78, 79, 80, 81, 82, 83, 84, 85, 86, 87, 88, 89, 90, 91, 92, 93, 94, 95, 96, 97, 98, 99, 100]\n"
          ]
        }
      ],
      "source": [
        "print(list(range(1,101)))"
      ]
    },
    {
      "cell_type": "code",
      "execution_count": 61,
      "id": "403af268",
      "metadata": {
        "colab": {
          "base_uri": "https://localhost:8080/"
        },
        "id": "403af268",
        "outputId": "5d707dd6-e583-4a31-d4b0-006777962f07"
      },
      "outputs": [
        {
          "output_type": "stream",
          "name": "stdout",
          "text": [
            "hello my name is Jonas\n"
          ]
        }
      ],
      "source": [
        "sentence = ' '\n",
        "new_sentence = sentence.join(['hello','my','name','is','Jonas'])\n",
        "print(new_sentence)"
      ]
    },
    {
      "cell_type": "code",
      "execution_count": 62,
      "id": "9a2d33b4",
      "metadata": {
        "colab": {
          "base_uri": "https://localhost:8080/"
        },
        "id": "9a2d33b4",
        "outputId": "95195213-b678-4a97-8e4b-99a81e2631ef"
      },
      "outputs": [
        {
          "output_type": "stream",
          "name": "stdout",
          "text": [
            "hello my name is Jonas\n"
          ]
        }
      ],
      "source": [
        "new_sentence = \" \".join(['hello','my','name','is','Jonas'])\n",
        "print(new_sentence)"
      ]
    },
    {
      "cell_type": "markdown",
      "id": "7f437ca9",
      "metadata": {
        "id": "7f437ca9"
      },
      "source": [
        "### List Unpacking"
      ]
    },
    {
      "cell_type": "code",
      "execution_count": 63,
      "id": "530b34b2",
      "metadata": {
        "colab": {
          "base_uri": "https://localhost:8080/"
        },
        "id": "530b34b2",
        "outputId": "6985fad9-972f-4ea5-c6ba-5e28a776d168"
      },
      "outputs": [
        {
          "output_type": "stream",
          "name": "stdout",
          "text": [
            "1\n",
            "2\n",
            "3\n",
            "[4, 5, 6, 7, 8]\n",
            "9\n"
          ]
        }
      ],
      "source": [
        "a,b,c, *other, d = [1,2,3,4,5,6,7,8,9]\n",
        "print(a)\n",
        "print(b)\n",
        "print(c)\n",
        "print(other)\n",
        "print(d)"
      ]
    },
    {
      "cell_type": "markdown",
      "id": "1fb4abb9",
      "metadata": {
        "id": "1fb4abb9"
      },
      "source": [
        "### None"
      ]
    },
    {
      "cell_type": "code",
      "execution_count": 64,
      "id": "855206af",
      "metadata": {
        "colab": {
          "base_uri": "https://localhost:8080/"
        },
        "id": "855206af",
        "outputId": "b772aa49-f41b-4547-9bdf-23d747d46344"
      },
      "outputs": [
        {
          "output_type": "stream",
          "name": "stdout",
          "text": [
            "None\n"
          ]
        }
      ],
      "source": [
        "weapons = None\n",
        "print(weapons)"
      ]
    },
    {
      "cell_type": "markdown",
      "id": "fb5395e4",
      "metadata": {
        "id": "fb5395e4"
      },
      "source": [
        "### Dictionary"
      ]
    },
    {
      "cell_type": "code",
      "execution_count": 65,
      "id": "f2668770",
      "metadata": {
        "colab": {
          "base_uri": "https://localhost:8080/"
        },
        "id": "f2668770",
        "outputId": "1b9eaacb-dcb3-45a3-f395-8ac9b38f89d3"
      },
      "outputs": [
        {
          "output_type": "stream",
          "name": "stdout",
          "text": [
            "2\n",
            "{'a': 1, 'b': 2, 'x': 3}\n"
          ]
        }
      ],
      "source": [
        "dictionary = {\n",
        "    'a': 1,\n",
        "    'b': 2,\n",
        "    'x': 3\n",
        "}\n",
        "\n",
        "print(dictionary['b'])\n",
        "print(dictionary)"
      ]
    },
    {
      "cell_type": "code",
      "execution_count": 66,
      "id": "14e9d69f",
      "metadata": {
        "colab": {
          "base_uri": "https://localhost:8080/"
        },
        "id": "14e9d69f",
        "outputId": "664b03ca-293d-4e24-bcdd-84007faec3fe"
      },
      "outputs": [
        {
          "output_type": "stream",
          "name": "stdout",
          "text": [
            "3\n"
          ]
        }
      ],
      "source": [
        "\n",
        "my_list = [\n",
        "    {\n",
        "        'a' : [1,2,3],\n",
        "        'b' : 'hello',\n",
        "        'x' : True\n",
        "    },\n",
        "    {\n",
        "    'a' : [4,5,6],\n",
        "    'b' : 'hello',\n",
        "    'x' : True\n",
        "    }\n",
        "]\n",
        "print(my_list[0]['a'][2])"
      ]
    },
    {
      "cell_type": "code",
      "execution_count": 67,
      "id": "7fd98b8d",
      "metadata": {
        "colab": {
          "base_uri": "https://localhost:8080/"
        },
        "id": "7fd98b8d",
        "outputId": "f80ecf6a-155c-4b97-c398-063c36857604"
      },
      "outputs": [
        {
          "output_type": "stream",
          "name": "stdout",
          "text": [
            "20\n"
          ]
        }
      ],
      "source": [
        "user = {\n",
        "    'basket' : [1,2,3],\n",
        "    'greet' : 'hello',\n",
        "    'age' : 20\n",
        "}\n",
        "print(user.get('age',55))"
      ]
    },
    {
      "cell_type": "code",
      "execution_count": 68,
      "id": "ab841273",
      "metadata": {
        "colab": {
          "base_uri": "https://localhost:8080/"
        },
        "id": "ab841273",
        "outputId": "96e056de-ffa7-455b-e453-399b31edfc3a"
      },
      "outputs": [
        {
          "output_type": "stream",
          "name": "stdout",
          "text": [
            "{'name': 'John John'}\n"
          ]
        }
      ],
      "source": [
        "user2 = dict( name = 'John John' )\n",
        "print(user2)"
      ]
    },
    {
      "cell_type": "code",
      "execution_count": 69,
      "id": "5210ed9b",
      "metadata": {
        "colab": {
          "base_uri": "https://localhost:8080/"
        },
        "id": "5210ed9b",
        "outputId": "3196bdd6-46f0-4cb0-e3bd-69543351db50"
      },
      "outputs": [
        {
          "output_type": "stream",
          "name": "stdout",
          "text": [
            "dict_items([('name', 'John John')])\n"
          ]
        }
      ],
      "source": [
        "print(user2.items())"
      ]
    },
    {
      "cell_type": "code",
      "execution_count": 70,
      "id": "5eef1501",
      "metadata": {
        "colab": {
          "base_uri": "https://localhost:8080/"
        },
        "id": "5eef1501",
        "outputId": "a595ef06-158a-474f-8ebd-79c34aa7648f"
      },
      "outputs": [
        {
          "output_type": "stream",
          "name": "stdout",
          "text": [
            "{}\n"
          ]
        }
      ],
      "source": [
        "user2.clear()\n",
        "print(user2)"
      ]
    },
    {
      "cell_type": "code",
      "execution_count": 71,
      "id": "54f9435b",
      "metadata": {
        "colab": {
          "base_uri": "https://localhost:8080/"
        },
        "id": "54f9435b",
        "outputId": "b71ce8e1-5e06-4b0f-9c04-ed93a0428457"
      },
      "outputs": [
        {
          "output_type": "stream",
          "name": "stdout",
          "text": [
            "20\n",
            "{'basket': [1, 2, 3], 'greet': 'hello'}\n"
          ]
        }
      ],
      "source": [
        "user = {\n",
        "    'basket' : [1,2,3],\n",
        "    'greet' : 'hello',\n",
        "    'age' : 20\n",
        "}\n",
        "print(user.pop('age'))\n",
        "print(user)"
      ]
    },
    {
      "cell_type": "code",
      "execution_count": 72,
      "id": "01759376",
      "metadata": {
        "colab": {
          "base_uri": "https://localhost:8080/"
        },
        "id": "01759376",
        "outputId": "389ecd4b-ac15-4a3c-8faf-9e742e9e8864"
      },
      "outputs": [
        {
          "output_type": "stream",
          "name": "stdout",
          "text": [
            "('age', 20)\n",
            "{'basket': [1, 2, 3], 'greet': 'hello'}\n"
          ]
        }
      ],
      "source": [
        "user = {\n",
        "    'basket' : [1,2,3],\n",
        "    'greet' : 'hello',\n",
        "    'age' : 20\n",
        "}\n",
        "print(user.popitem())\n",
        "print(user)"
      ]
    },
    {
      "cell_type": "code",
      "execution_count": 73,
      "id": "e9dbb717",
      "metadata": {
        "colab": {
          "base_uri": "https://localhost:8080/"
        },
        "id": "e9dbb717",
        "outputId": "0e5155a3-c95e-464d-a2cc-742e51f3eb9e"
      },
      "outputs": [
        {
          "output_type": "stream",
          "name": "stdout",
          "text": [
            "None\n",
            "{'basket': [1, 2, 3], 'greet': 'hello', 'age': 44}\n"
          ]
        }
      ],
      "source": [
        "user = {\n",
        "    'basket' : [1,2,3],\n",
        "    'greet' : 'hello',\n",
        "    'age' : 20\n",
        "}\n",
        "print(user.update({'age': 44}))\n",
        "print(user)"
      ]
    },
    {
      "cell_type": "code",
      "execution_count": 74,
      "id": "fb7d8ea1",
      "metadata": {
        "colab": {
          "base_uri": "https://localhost:8080/"
        },
        "id": "fb7d8ea1",
        "outputId": "ed57b85c-6d77-4b7e-fa70-16fb06865226"
      },
      "outputs": [
        {
          "output_type": "stream",
          "name": "stdout",
          "text": [
            "None\n",
            "{'basket': [1, 2, 3], 'greet': 'hello', 'age': 44, 'country': 'Azerbaijan'}\n"
          ]
        }
      ],
      "source": [
        "print(user.update({'country': 'Azerbaijan'}))\n",
        "print(user)"
      ]
    },
    {
      "cell_type": "markdown",
      "id": "ac91dc4e",
      "metadata": {
        "id": "ac91dc4e"
      },
      "source": [
        "### Tuples"
      ]
    },
    {
      "cell_type": "code",
      "execution_count": 75,
      "id": "4f66c814",
      "metadata": {
        "colab": {
          "base_uri": "https://localhost:8080/",
          "height": 211
        },
        "id": "4f66c814",
        "outputId": "7aa2231e-0d48-4204-ac64-9036873f281a"
      },
      "outputs": [
        {
          "output_type": "stream",
          "name": "stdout",
          "text": [
            "3\n",
            "True\n"
          ]
        },
        {
          "output_type": "error",
          "ename": "TypeError",
          "evalue": "'tuple' object does not support item assignment",
          "traceback": [
            "\u001b[0;31m---------------------------------------------------------------------------\u001b[0m",
            "\u001b[0;31mTypeError\u001b[0m                                 Traceback (most recent call last)",
            "\u001b[0;32m<ipython-input-75-74d619ecf951>\u001b[0m in \u001b[0;36m<cell line: 4>\u001b[0;34m()\u001b[0m\n\u001b[1;32m      2\u001b[0m \u001b[0mprint\u001b[0m\u001b[0;34m(\u001b[0m\u001b[0mmy_tuple\u001b[0m\u001b[0;34m[\u001b[0m\u001b[0;36m2\u001b[0m\u001b[0;34m]\u001b[0m\u001b[0;34m)\u001b[0m\u001b[0;34m\u001b[0m\u001b[0;34m\u001b[0m\u001b[0m\n\u001b[1;32m      3\u001b[0m \u001b[0mprint\u001b[0m\u001b[0;34m(\u001b[0m\u001b[0;36m5\u001b[0m \u001b[0;32min\u001b[0m \u001b[0mmy_tuple\u001b[0m\u001b[0;34m)\u001b[0m\u001b[0;34m\u001b[0m\u001b[0;34m\u001b[0m\u001b[0m\n\u001b[0;32m----> 4\u001b[0;31m \u001b[0mmy_tuple\u001b[0m\u001b[0;34m[\u001b[0m\u001b[0;36m0\u001b[0m\u001b[0;34m]\u001b[0m \u001b[0;34m=\u001b[0m \u001b[0;34m'z'\u001b[0m\u001b[0;34m\u001b[0m\u001b[0;34m\u001b[0m\u001b[0m\n\u001b[0m",
            "\u001b[0;31mTypeError\u001b[0m: 'tuple' object does not support item assignment"
          ]
        }
      ],
      "source": [
        "my_tuple = (1,2,3,4,5)\n",
        "print(my_tuple[2])\n",
        "print(5 in my_tuple)\n",
        "my_tuple[0] = 'z'"
      ]
    },
    {
      "cell_type": "code",
      "execution_count": 76,
      "id": "6d84f948",
      "metadata": {
        "colab": {
          "base_uri": "https://localhost:8080/"
        },
        "id": "6d84f948",
        "outputId": "7081d9ae-e6b2-4054-ead3-cf43cd444d40"
      },
      "outputs": [
        {
          "output_type": "stream",
          "name": "stdout",
          "text": [
            "[1, 2, 3]\n"
          ]
        }
      ],
      "source": [
        "user = {\n",
        "    (1,2) : [1,2,3],\n",
        "    'greet' : 'hello',\n",
        "    'age' : 20\n",
        "}\n",
        "print(user[(1,2)])"
      ]
    },
    {
      "cell_type": "code",
      "execution_count": 77,
      "id": "7a941710",
      "metadata": {
        "colab": {
          "base_uri": "https://localhost:8080/"
        },
        "id": "7a941710",
        "outputId": "f80ca431-6552-4987-dbfb-0bd4271638e6"
      },
      "outputs": [
        {
          "output_type": "stream",
          "name": "stdout",
          "text": [
            "(3,)\n",
            "(3, 4)\n"
          ]
        }
      ],
      "source": [
        "my_tuple = (1,2,3,4,5)\n",
        "new_tuple = my_tuple[2:3]\n",
        "print(new_tuple)\n",
        "new_tuple = my_tuple[2:4]\n",
        "print(new_tuple)"
      ]
    },
    {
      "cell_type": "code",
      "execution_count": 78,
      "id": "96361bc1",
      "metadata": {
        "colab": {
          "base_uri": "https://localhost:8080/"
        },
        "id": "96361bc1",
        "outputId": "6bd50e22-d5db-49a3-b7ec-120dad9bdf30"
      },
      "outputs": [
        {
          "output_type": "stream",
          "name": "stdout",
          "text": [
            "1\n",
            "2\n",
            "3\n",
            "[4, 5]\n"
          ]
        }
      ],
      "source": [
        "x,y,z, *other = (1,2,3,4,5)\n",
        "print(x)\n",
        "print(y)\n",
        "print(z)\n",
        "print(other)"
      ]
    },
    {
      "cell_type": "code",
      "execution_count": 79,
      "id": "67bbb15b",
      "metadata": {
        "colab": {
          "base_uri": "https://localhost:8080/"
        },
        "id": "67bbb15b",
        "outputId": "6bbe7bfc-3ae8-4d04-ae55-3f9b84a3218f"
      },
      "outputs": [
        {
          "output_type": "stream",
          "name": "stdout",
          "text": [
            "2\n"
          ]
        }
      ],
      "source": [
        "my_tuple = (1,2,3,4,5,5)\n",
        "print(my_tuple.count(5))"
      ]
    },
    {
      "cell_type": "code",
      "execution_count": 80,
      "id": "8c950dc9",
      "metadata": {
        "colab": {
          "base_uri": "https://localhost:8080/"
        },
        "id": "8c950dc9",
        "outputId": "155f6a6b-41e9-4799-dc5d-1041fa42cd30"
      },
      "outputs": [
        {
          "output_type": "stream",
          "name": "stdout",
          "text": [
            "index of 5 is 4\n",
            "length of my_tuple is 6\n"
          ]
        }
      ],
      "source": [
        "my_tuple = (1,2,3,4,5,5)\n",
        "print(f\"index of 5 is {my_tuple.index(5)}\")\n",
        "print(f\"length of my_tuple is {len(my_tuple)}\")"
      ]
    },
    {
      "cell_type": "markdown",
      "id": "8ef85012",
      "metadata": {
        "id": "8ef85012"
      },
      "source": [
        "### Sets\n",
        "#### unordered collection of unique elements"
      ]
    },
    {
      "cell_type": "code",
      "execution_count": 81,
      "id": "343f3c5e",
      "metadata": {
        "colab": {
          "base_uri": "https://localhost:8080/"
        },
        "id": "343f3c5e",
        "outputId": "ba140574-3d81-4f3e-aeef-75d1fe311ea0"
      },
      "outputs": [
        {
          "output_type": "stream",
          "name": "stdout",
          "text": [
            "{1, 2, 3, 4, 5}\n"
          ]
        }
      ],
      "source": [
        "my_set = {1,2,3,4,5}\n",
        "print(my_set)"
      ]
    },
    {
      "cell_type": "code",
      "execution_count": 82,
      "id": "e1df2393",
      "metadata": {
        "colab": {
          "base_uri": "https://localhost:8080/"
        },
        "id": "e1df2393",
        "outputId": "5d9a3144-2a8d-446e-8e51-149260322d74"
      },
      "outputs": [
        {
          "output_type": "stream",
          "name": "stdout",
          "text": [
            "{1, 2, 3, 4, 5}\n"
          ]
        }
      ],
      "source": [
        "my_set = {1,2,3,4,4,4,5,5}\n",
        "print(my_set)"
      ]
    },
    {
      "cell_type": "code",
      "execution_count": 83,
      "id": "ad1442dd",
      "metadata": {
        "colab": {
          "base_uri": "https://localhost:8080/"
        },
        "id": "ad1442dd",
        "outputId": "43db2327-a153-4b2d-ee27-b7f29426ee61"
      },
      "outputs": [
        {
          "output_type": "stream",
          "name": "stdout",
          "text": [
            "{1, 2, 3, 4, 5, 199, 135}\n"
          ]
        }
      ],
      "source": [
        "my_set = {1,2,3,4,4,4,5,5}\n",
        "my_set.add(199)\n",
        "my_set.add(135)\n",
        "my_set.add(2)\n",
        "# we can't :(\n",
        "print(my_set)"
      ]
    },
    {
      "cell_type": "code",
      "execution_count": 84,
      "id": "f386e8a5",
      "metadata": {
        "colab": {
          "base_uri": "https://localhost:8080/"
        },
        "id": "f386e8a5",
        "outputId": "61a9b02f-3478-44e9-c966-b909ae6a262d"
      },
      "outputs": [
        {
          "output_type": "stream",
          "name": "stdout",
          "text": [
            "{1, 2, 3, 4, 5}\n"
          ]
        }
      ],
      "source": [
        "#Return Unique elements\n",
        "my_list = [1,2,3,4,5,5]\n",
        "print(set(my_list))"
      ]
    },
    {
      "cell_type": "code",
      "execution_count": 85,
      "id": "7e0b4e7d",
      "metadata": {
        "colab": {
          "base_uri": "https://localhost:8080/",
          "height": 158
        },
        "id": "7e0b4e7d",
        "outputId": "ab6d5e94-1715-4c20-9476-8a72138fac36"
      },
      "outputs": [
        {
          "output_type": "error",
          "ename": "TypeError",
          "evalue": "'set' object is not subscriptable",
          "traceback": [
            "\u001b[0;31m---------------------------------------------------------------------------\u001b[0m",
            "\u001b[0;31mTypeError\u001b[0m                                 Traceback (most recent call last)",
            "\u001b[0;32m<ipython-input-85-3bedda36e84d>\u001b[0m in \u001b[0;36m<cell line: 2>\u001b[0;34m()\u001b[0m\n\u001b[1;32m      1\u001b[0m \u001b[0mmy_set\u001b[0m \u001b[0;34m=\u001b[0m \u001b[0;34m{\u001b[0m\u001b[0;36m1\u001b[0m\u001b[0;34m,\u001b[0m\u001b[0;36m2\u001b[0m\u001b[0;34m,\u001b[0m\u001b[0;36m3\u001b[0m\u001b[0;34m,\u001b[0m\u001b[0;36m4\u001b[0m\u001b[0;34m,\u001b[0m\u001b[0;36m4\u001b[0m\u001b[0;34m,\u001b[0m\u001b[0;36m4\u001b[0m\u001b[0;34m,\u001b[0m\u001b[0;36m5\u001b[0m\u001b[0;34m,\u001b[0m\u001b[0;36m5\u001b[0m\u001b[0;34m}\u001b[0m\u001b[0;34m\u001b[0m\u001b[0;34m\u001b[0m\u001b[0m\n\u001b[0;32m----> 2\u001b[0;31m \u001b[0mprint\u001b[0m\u001b[0;34m(\u001b[0m\u001b[0mmy_set\u001b[0m\u001b[0;34m[\u001b[0m\u001b[0;36m0\u001b[0m\u001b[0;34m]\u001b[0m\u001b[0;34m)\u001b[0m\u001b[0;34m\u001b[0m\u001b[0;34m\u001b[0m\u001b[0m\n\u001b[0m",
            "\u001b[0;31mTypeError\u001b[0m: 'set' object is not subscriptable"
          ]
        }
      ],
      "source": [
        "my_set = {1,2,3,4,4,4,5,5}\n",
        "print(my_set[0])"
      ]
    },
    {
      "cell_type": "code",
      "execution_count": null,
      "id": "c8b9ddb9",
      "metadata": {
        "id": "c8b9ddb9"
      },
      "outputs": [],
      "source": [
        "my_set = {1,2,3,4,4,4,5,5}\n",
        "print(3 in my_set)\n",
        "print(len(my_set))\n",
        "new_set = my_set.copy()\n",
        "my_set.clear()\n",
        "print(list(new_set))\n",
        "print(my_set)"
      ]
    },
    {
      "cell_type": "markdown",
      "id": "7f397418",
      "metadata": {
        "id": "7f397418"
      },
      "source": [
        "### Sets 2"
      ]
    },
    {
      "cell_type": "code",
      "execution_count": 86,
      "id": "b6fd61f3",
      "metadata": {
        "colab": {
          "base_uri": "https://localhost:8080/"
        },
        "id": "b6fd61f3",
        "outputId": "4050bf9e-9624-4406-b84d-af78febb3d55"
      },
      "outputs": [
        {
          "output_type": "stream",
          "name": "stdout",
          "text": [
            "{1, 2, 3}\n",
            "{1, 2, 3, 4, 5}\n",
            "{1, 2, 3, 4}\n"
          ]
        }
      ],
      "source": [
        "my_set = {1,2,3,4,5}\n",
        "your_set = {4,5,6,7,8,9,10}\n",
        "\n",
        "print(my_set.difference(your_set))          # A \\ B\n",
        "print(my_set)\n",
        "my_set.discard(5)\n",
        "print(my_set)\n"
      ]
    },
    {
      "cell_type": "code",
      "execution_count": 87,
      "id": "d8b9a1e4",
      "metadata": {
        "colab": {
          "base_uri": "https://localhost:8080/"
        },
        "id": "d8b9a1e4",
        "outputId": "caba2690-46ec-4dfe-f5b4-c0ce458b2472"
      },
      "outputs": [
        {
          "output_type": "execute_result",
          "data": {
            "text/plain": [
              "{1, 2, 3}"
            ]
          },
          "metadata": {},
          "execution_count": 87
        }
      ],
      "source": [
        "my_set = {1,2,3,4,5}\n",
        "your_set = {4,5,6,7,8,9,10}\n",
        "\n",
        "my_set.difference_update(your_set)\n",
        "my_set"
      ]
    },
    {
      "cell_type": "code",
      "execution_count": 88,
      "id": "02a83023",
      "metadata": {
        "colab": {
          "base_uri": "https://localhost:8080/"
        },
        "id": "02a83023",
        "outputId": "c6a48929-722b-48fd-87c9-2c4c8cb51ad7"
      },
      "outputs": [
        {
          "output_type": "stream",
          "name": "stdout",
          "text": [
            "{4, 5}\n",
            "{4, 5}\n"
          ]
        }
      ],
      "source": [
        "my_set = {1,2,3,4,5}\n",
        "your_set = {4,5,6,7,8,9,10}\n",
        "\n",
        "print(my_set.intersection(your_set))\n",
        "print(my_set & your_set)"
      ]
    },
    {
      "cell_type": "code",
      "execution_count": 89,
      "id": "a00ee2fc",
      "metadata": {
        "colab": {
          "base_uri": "https://localhost:8080/"
        },
        "id": "a00ee2fc",
        "outputId": "97c500b4-a5dc-4d75-a9d7-cfc517926f18"
      },
      "outputs": [
        {
          "output_type": "stream",
          "name": "stdout",
          "text": [
            "False\n"
          ]
        }
      ],
      "source": [
        "my_set = {1,2,3,4,5}\n",
        "your_set = {4,5,6,7,8,9,10}\n",
        "\n",
        "print(my_set.isdisjoint(your_set))"
      ]
    },
    {
      "cell_type": "code",
      "execution_count": 90,
      "id": "8d151780",
      "metadata": {
        "colab": {
          "base_uri": "https://localhost:8080/"
        },
        "id": "8d151780",
        "outputId": "3736bf13-646b-495c-c15e-602ac8c7e6a0"
      },
      "outputs": [
        {
          "output_type": "stream",
          "name": "stdout",
          "text": [
            "True\n"
          ]
        }
      ],
      "source": [
        "my_set = {1,2,3}\n",
        "your_set = {4,5,6,7,8,9,10}\n",
        "\n",
        "print(my_set.isdisjoint(your_set))"
      ]
    },
    {
      "cell_type": "code",
      "execution_count": 91,
      "id": "2d552c45",
      "metadata": {
        "colab": {
          "base_uri": "https://localhost:8080/"
        },
        "id": "2d552c45",
        "outputId": "b2ce180d-173e-44ee-c503-82930b6c909e"
      },
      "outputs": [
        {
          "output_type": "stream",
          "name": "stdout",
          "text": [
            "{1, 2, 3, 4, 5, 6, 7, 8, 9, 10}\n",
            "{1, 2, 3, 4, 5, 6, 7, 8, 9, 10}\n"
          ]
        }
      ],
      "source": [
        "my_set = {1,2,3}\n",
        "your_set = {4,5,6,7,8,9,10}\n",
        "\n",
        "print(my_set.union(your_set))\n",
        "print(my_set | your_set)"
      ]
    },
    {
      "cell_type": "code",
      "execution_count": 92,
      "id": "67eb782c",
      "metadata": {
        "colab": {
          "base_uri": "https://localhost:8080/"
        },
        "id": "67eb782c",
        "outputId": "dae1d9b3-3dab-4c83-e38f-9e841fca42ca"
      },
      "outputs": [
        {
          "output_type": "stream",
          "name": "stdout",
          "text": [
            "False\n"
          ]
        }
      ],
      "source": [
        "my_set = {1,2,3}\n",
        "your_set = {4,5,6,7,8,9,10}\n",
        "print(my_set.issubset(your_set))"
      ]
    },
    {
      "cell_type": "code",
      "execution_count": 93,
      "id": "941a96fa",
      "metadata": {
        "colab": {
          "base_uri": "https://localhost:8080/"
        },
        "id": "941a96fa",
        "outputId": "81dd099a-683a-4736-cde8-8ecdb8ea8f9c"
      },
      "outputs": [
        {
          "output_type": "stream",
          "name": "stdout",
          "text": [
            "True\n"
          ]
        }
      ],
      "source": [
        "my_set = {4,5}\n",
        "your_set = {4,5,6,7,8,9,10}\n",
        "print(my_set.issubset(your_set))"
      ]
    },
    {
      "cell_type": "code",
      "execution_count": 94,
      "id": "03d05839",
      "metadata": {
        "colab": {
          "base_uri": "https://localhost:8080/"
        },
        "id": "03d05839",
        "outputId": "bb531972-ade2-4a2d-d21a-821aa83e957b"
      },
      "outputs": [
        {
          "output_type": "stream",
          "name": "stdout",
          "text": [
            "False\n"
          ]
        }
      ],
      "source": [
        "my_set = {4,5}\n",
        "your_set = {4,5,6,7,8,9,10}\n",
        "print(my_set.issuperset(your_set))"
      ]
    },
    {
      "cell_type": "code",
      "execution_count": 95,
      "id": "54f3b7e5",
      "metadata": {
        "colab": {
          "base_uri": "https://localhost:8080/"
        },
        "id": "54f3b7e5",
        "outputId": "f38b8621-35f9-4604-b54d-f4a5ab31db0f"
      },
      "outputs": [
        {
          "output_type": "stream",
          "name": "stdout",
          "text": [
            "True\n"
          ]
        }
      ],
      "source": [
        "my_set = {4,5}\n",
        "your_set = {4,5,6,7,8,9,10}\n",
        "print(your_set.issuperset(my_set))"
      ]
    },
    {
      "cell_type": "code",
      "execution_count": 95,
      "id": "a40f5379",
      "metadata": {
        "id": "a40f5379"
      },
      "outputs": [],
      "source": []
    }
  ],
  "metadata": {
    "kernelspec": {
      "display_name": "Python 3 (ipykernel)",
      "language": "python",
      "name": "python3"
    },
    "language_info": {
      "codemirror_mode": {
        "name": "ipython",
        "version": 3
      },
      "file_extension": ".py",
      "mimetype": "text/x-python",
      "name": "python",
      "nbconvert_exporter": "python",
      "pygments_lexer": "ipython3",
      "version": "3.11.4"
    },
    "colab": {
      "provenance": [],
      "include_colab_link": true
    }
  },
  "nbformat": 4,
  "nbformat_minor": 5
}